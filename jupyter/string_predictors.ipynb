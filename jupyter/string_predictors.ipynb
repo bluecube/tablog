{
 "cells": [
  {
   "cell_type": "markdown",
   "id": "flush-softball",
   "metadata": {},
   "source": [
    "# String predictor\n",
    "\n",
    "Tablog encodes column name strings in headers and we want to compress them at least a bit -- the strings should not be the dominant part of the dataset, but still saving few bytes is always good.\n",
    "\n",
    "This file contains experiments that should help determining an appropriate compression algorithm.\n",
    "\n",
    "Goals for this part are (in order of importance):\n",
    "1. fast and light\n",
    "2. simple-ishto implement\n",
    "3. compresses well enough to make me happy"
   ]
  },
  {
   "cell_type": "code",
   "execution_count": 1,
   "id": "d86d5522",
   "metadata": {},
   "outputs": [],
   "source": [
    "import os\n",
    "import re\n",
    "import collections\n",
    "import math\n",
    "import string\n",
    "import heapq\n",
    "import itertools\n",
    "import string\n",
    "import gzip"
   ]
  },
  {
   "cell_type": "code",
   "execution_count": 2,
   "id": "54d5d85a",
   "metadata": {},
   "outputs": [],
   "source": [
    "import requests\n",
    "from tqdm.notebook import tqdm, trange"
   ]
  },
  {
   "cell_type": "markdown",
   "id": "17054480",
   "metadata": {},
   "source": [
    "## Manual test data\n",
    "These are just a couple of strings that I feel will be representative of the intended use of Tablog.\n",
    "Used mostly to get an intuitive feel of how the compression behaves."
   ]
  },
  {
   "cell_type": "code",
   "execution_count": 3,
   "id": "92d026d8",
   "metadata": {},
   "outputs": [],
   "source": [
    "manual_test_data = [\n",
    "    \"deadbeef\", \"hello_world\", \"voltage\", \"current\", \"left\", \"column58\", \"left_motor_speed\", \"kP\", \"right_motor_kD\",\n",
    "    \"POWER!\", \"timestamp\", \"AverageTicks\", \"temperature\", \"MCU-power\", \"alpha\", \"beta\", \"omega\", \"velocityX\",\n",
    "    \"!@#$%^&*()\", \"\"\n",
    "]"
   ]
  },
  {
   "cell_type": "markdown",
   "id": "weekly-parking",
   "metadata": {},
   "source": [
    "## Harvesting test data"
   ]
  },
  {
   "cell_type": "code",
   "execution_count": 4,
   "id": "9cc6b764",
   "metadata": {},
   "outputs": [],
   "source": [
    "def regex_from_example_directories(regex):\n",
    "    \"\"\"Recursively go through all source-looking files in the\n",
    "    directories and return a counter of words matching regex.\"\"\"\n",
    "    \n",
    "    extensions = (\".cpp\", \".hpp\", \".c\", \".h\", \".py\", \".sh\")\n",
    "    directories = [\n",
    "        \"/home/cube/development/c/tablog/encoder\",\n",
    "        \"/home/cube/development/c/tablog/decoder\",\n",
    "        \"/home/cube/development/c/tablog/integration_tests\",\n",
    "        \"/usr/src/linux\"\n",
    "    ]\n",
    "\n",
    "    regex = re.compile(regex)\n",
    "    \n",
    "    ret = collections.Counter()\n",
    "    \n",
    "    for directory in tqdm(directories, desc=\"Looking through directories\"):\n",
    "        for root, dirs, files in os.walk(directory):\n",
    "            for file in files:\n",
    "                if not file.endswith(extensions):\n",
    "                    continue\n",
    "                path = os.path.join(root, file)\n",
    "                with open(path, \"r\") as fp:\n",
    "                    for line in fp:\n",
    "                        for match in regex.finditer(line):\n",
    "                            ret[match.group(0)] += 1\n",
    "\n",
    "    return ret"
   ]
  },
  {
   "cell_type": "markdown",
   "id": "naked-academy",
   "metadata": {},
   "source": [
    "Load strings that look like identifiers from Tablog sources and  from Linux kernel sources."
   ]
  },
  {
   "cell_type": "code",
   "execution_count": 5,
   "id": "df0c246a",
   "metadata": {
    "scrolled": true
   },
   "outputs": [],
   "source": [
    "#data = regex_from_example_directories(r\"(?<![a-zA-Z0-9_])[a-zA-Z_][a-zA-Z0-9_]*\")"
   ]
  },
  {
   "cell_type": "markdown",
   "id": "deba44f6",
   "metadata": {},
   "source": [
    "## English words"
   ]
  },
  {
   "cell_type": "code",
   "execution_count": 7,
   "id": "4b27a9be",
   "metadata": {},
   "outputs": [],
   "source": [
    "def google_books_1grams_words():\n",
    "    ret = collections.Counter()\n",
    "    good_string_re = re.compile(r\"^([a-zA-Z]*)\\t[^\\t]*\\t([0-9]*)\")\n",
    "    for letter in tqdm(string.ascii_lowercase):\n",
    "        r = requests.get(f\"http://storage.googleapis.com/books/ngrams/books/googlebooks-eng-all-1gram-20120701-{letter}.gz\", stream=True)\n",
    "        file_size = int(r.headers.get('Content-Length', 0))\n",
    "        with tqdm.wrapattr(r.raw, \"read\", total=file_size, desc=letter) as compressed_response_file:\n",
    "            with gzip.open(compressed_response_file, \"rt\") as response_file:\n",
    "                for line in response_file:\n",
    "                    if match := good_string_re.match(line):\n",
    "                        ret[match[1]] += int(match[2])\n",
    "                        \n",
    "    return ret"
   ]
  },
  {
   "cell_type": "code",
   "execution_count": 8,
   "id": "bdf35224",
   "metadata": {},
   "outputs": [
    {
     "data": {
      "application/vnd.jupyter.widget-view+json": {
       "model_id": "96b73ec8ca384457ae41aff3a4f7579d",
       "version_major": 2,
       "version_minor": 0
      },
      "text/plain": [
       "  0%|          | 0/26 [00:00<?, ?it/s]"
      ]
     },
     "metadata": {},
     "output_type": "display_data"
    },
    {
     "data": {
      "application/vnd.jupyter.widget-view+json": {
       "model_id": "ab7b0334ea8e4428b36ca81e4058b189",
       "version_major": 2,
       "version_minor": 0
      },
      "text/plain": [
       "a:   0%|          | 0/343487895 [00:00<?, ?it/s]"
      ]
     },
     "metadata": {},
     "output_type": "display_data"
    },
    {
     "data": {
      "application/vnd.jupyter.widget-view+json": {
       "model_id": "809d5df531f54e2faee458007a098b3d",
       "version_major": 2,
       "version_minor": 0
      },
      "text/plain": [
       "b:   0%|          | 0/247964820 [00:00<?, ?it/s]"
      ]
     },
     "metadata": {},
     "output_type": "display_data"
    },
    {
     "data": {
      "application/vnd.jupyter.widget-view+json": {
       "model_id": "1943115e2c814dea869042da69a18ef1",
       "version_major": 2,
       "version_minor": 0
      },
      "text/plain": [
       "c:   0%|          | 0/393712861 [00:00<?, ?it/s]"
      ]
     },
     "metadata": {},
     "output_type": "display_data"
    },
    {
     "data": {
      "application/vnd.jupyter.widget-view+json": {
       "model_id": "1725ec0dd2514dea9d2c86af489c58b1",
       "version_major": 2,
       "version_minor": 0
      },
      "text/plain": [
       "d:   0%|          | 0/239389478 [00:00<?, ?it/s]"
      ]
     },
     "metadata": {},
     "output_type": "display_data"
    },
    {
     "data": {
      "application/vnd.jupyter.widget-view+json": {
       "model_id": "9d2fb9e2c0754b77b5c3a48af024d635",
       "version_major": 2,
       "version_minor": 0
      },
      "text/plain": [
       "e:   0%|          | 0/204996476 [00:00<?, ?it/s]"
      ]
     },
     "metadata": {},
     "output_type": "display_data"
    },
    {
     "data": {
      "application/vnd.jupyter.widget-view+json": {
       "model_id": "e093a5dfd27d4b318dca27bb0f9882bb",
       "version_major": 2,
       "version_minor": 0
      },
      "text/plain": [
       "f:   0%|          | 0/185305580 [00:00<?, ?it/s]"
      ]
     },
     "metadata": {},
     "output_type": "display_data"
    },
    {
     "data": {
      "application/vnd.jupyter.widget-view+json": {
       "model_id": "d812b511db7c4009b13d00975bd240dc",
       "version_major": 2,
       "version_minor": 0
      },
      "text/plain": [
       "g:   0%|          | 0/160767731 [00:00<?, ?it/s]"
      ]
     },
     "metadata": {},
     "output_type": "display_data"
    },
    {
     "data": {
      "application/vnd.jupyter.widget-view+json": {
       "model_id": "bd7be78f6cbc44ecae011627f55458fe",
       "version_major": 2,
       "version_minor": 0
      },
      "text/plain": [
       "h:   0%|          | 0/183438682 [00:00<?, ?it/s]"
      ]
     },
     "metadata": {},
     "output_type": "display_data"
    },
    {
     "data": {
      "application/vnd.jupyter.widget-view+json": {
       "model_id": "99a0115a01484c8b98453c9cbfe1c46c",
       "version_major": 2,
       "version_minor": 0
      },
      "text/plain": [
       "i:   0%|          | 0/203553215 [00:00<?, ?it/s]"
      ]
     },
     "metadata": {},
     "output_type": "display_data"
    },
    {
     "data": {
      "application/vnd.jupyter.widget-view+json": {
       "model_id": "d66fd6e54b6e4233b6e3c53c01b6a1ea",
       "version_major": 2,
       "version_minor": 0
      },
      "text/plain": [
       "j:   0%|          | 0/64839808 [00:00<?, ?it/s]"
      ]
     },
     "metadata": {},
     "output_type": "display_data"
    },
    {
     "data": {
      "application/vnd.jupyter.widget-view+json": {
       "model_id": "088bc86e1db44d47a55f1db3a676f8fd",
       "version_major": 2,
       "version_minor": 0
      },
      "text/plain": [
       "k:   0%|          | 0/109307817 [00:00<?, ?it/s]"
      ]
     },
     "metadata": {},
     "output_type": "display_data"
    },
    {
     "data": {
      "application/vnd.jupyter.widget-view+json": {
       "model_id": "da1c96d27de64539bd4db58d349ff620",
       "version_major": 2,
       "version_minor": 0
      },
      "text/plain": [
       "l:   0%|          | 0/188008415 [00:00<?, ?it/s]"
      ]
     },
     "metadata": {},
     "output_type": "display_data"
    },
    {
     "data": {
      "application/vnd.jupyter.widget-view+json": {
       "model_id": "77da2407b10c4329be8e7aa87661736b",
       "version_major": 2,
       "version_minor": 0
      },
      "text/plain": [
       "m:   0%|          | 0/289750659 [00:00<?, ?it/s]"
      ]
     },
     "metadata": {},
     "output_type": "display_data"
    },
    {
     "data": {
      "application/vnd.jupyter.widget-view+json": {
       "model_id": "8c75049e0f7042e9b7dd4a168113d55a",
       "version_major": 2,
       "version_minor": 0
      },
      "text/plain": [
       "n:   0%|          | 0/141931087 [00:00<?, ?it/s]"
      ]
     },
     "metadata": {},
     "output_type": "display_data"
    },
    {
     "data": {
      "application/vnd.jupyter.widget-view+json": {
       "model_id": "0a43ffab45c34f158b920bfc5be3d4db",
       "version_major": 2,
       "version_minor": 0
      },
      "text/plain": [
       "o:   0%|          | 0/139934943 [00:00<?, ?it/s]"
      ]
     },
     "metadata": {},
     "output_type": "display_data"
    },
    {
     "data": {
      "application/vnd.jupyter.widget-view+json": {
       "model_id": "e80985aeca4d4e2bafa5c0eb050535b9",
       "version_major": 2,
       "version_minor": 0
      },
      "text/plain": [
       "p:   0%|          | 0/357808228 [00:00<?, ?it/s]"
      ]
     },
     "metadata": {},
     "output_type": "display_data"
    },
    {
     "data": {
      "application/vnd.jupyter.widget-view+json": {
       "model_id": "2550ace3963e49b5bf9cf41b79716187",
       "version_major": 2,
       "version_minor": 0
      },
      "text/plain": [
       "q:   0%|          | 0/26608642 [00:00<?, ?it/s]"
      ]
     },
     "metadata": {},
     "output_type": "display_data"
    },
    {
     "data": {
      "application/vnd.jupyter.widget-view+json": {
       "model_id": "e73db47719564f1d9d826423b18dde43",
       "version_major": 2,
       "version_minor": 0
      },
      "text/plain": [
       "r:   0%|          | 0/216873218 [00:00<?, ?it/s]"
      ]
     },
     "metadata": {},
     "output_type": "display_data"
    },
    {
     "data": {
      "application/vnd.jupyter.widget-view+json": {
       "model_id": "9719faea5f6f4a63bec25602c2e3af81",
       "version_major": 2,
       "version_minor": 0
      },
      "text/plain": [
       "s:   0%|          | 0/444315601 [00:00<?, ?it/s]"
      ]
     },
     "metadata": {},
     "output_type": "display_data"
    },
    {
     "data": {
      "application/vnd.jupyter.widget-view+json": {
       "model_id": "dd8f87d406fa42d3b85915d6c1018c74",
       "version_major": 2,
       "version_minor": 0
      },
      "text/plain": [
       "t:   0%|          | 0/265071292 [00:00<?, ?it/s]"
      ]
     },
     "metadata": {},
     "output_type": "display_data"
    },
    {
     "data": {
      "application/vnd.jupyter.widget-view+json": {
       "model_id": "104f15a8b41140579e9f3f1c9e9ff060",
       "version_major": 2,
       "version_minor": 0
      },
      "text/plain": [
       "u:   0%|          | 0/88124330 [00:00<?, ?it/s]"
      ]
     },
     "metadata": {},
     "output_type": "display_data"
    },
    {
     "data": {
      "application/vnd.jupyter.widget-view+json": {
       "model_id": "fdc52f78e3434356ad162c93db5de4ea",
       "version_major": 2,
       "version_minor": 0
      },
      "text/plain": [
       "v:   0%|          | 0/108848534 [00:00<?, ?it/s]"
      ]
     },
     "metadata": {},
     "output_type": "display_data"
    },
    {
     "data": {
      "application/vnd.jupyter.widget-view+json": {
       "model_id": "f5ff1495109d4cd487cd054b379e62bb",
       "version_major": 2,
       "version_minor": 0
      },
      "text/plain": [
       "w:   0%|          | 0/118835349 [00:00<?, ?it/s]"
      ]
     },
     "metadata": {},
     "output_type": "display_data"
    },
    {
     "data": {
      "application/vnd.jupyter.widget-view+json": {
       "model_id": "33624a4e0e834134a4469956720c9332",
       "version_major": 2,
       "version_minor": 0
      },
      "text/plain": [
       "x:   0%|          | 0/14649720 [00:00<?, ?it/s]"
      ]
     },
     "metadata": {},
     "output_type": "display_data"
    },
    {
     "data": {
      "application/vnd.jupyter.widget-view+json": {
       "model_id": "28ad5c38e40d48eba2fd1c07c6c15852",
       "version_major": 2,
       "version_minor": 0
      },
      "text/plain": [
       "y:   0%|          | 0/26595711 [00:00<?, ?it/s]"
      ]
     },
     "metadata": {},
     "output_type": "display_data"
    },
    {
     "data": {
      "application/vnd.jupyter.widget-view+json": {
       "model_id": "b1b8bceb7c684b4ca4380d764c4d5ef5",
       "version_major": 2,
       "version_minor": 0
      },
      "text/plain": [
       "z:   0%|          | 0/27324007 [00:00<?, ?it/s]"
      ]
     },
     "metadata": {},
     "output_type": "display_data"
    }
   ],
   "source": [
    "english_words = google_books_1grams_words()"
   ]
  },
  {
   "cell_type": "code",
   "execution_count": 9,
   "id": "fc8da69f",
   "metadata": {},
   "outputs": [
    {
     "data": {
      "text/plain": [
       "[('the', 23688414489),\n",
       " ('of', 15342397280),\n",
       " ('and', 11021132912),\n",
       " ('to', 9494905988),\n",
       " ('in', 7611765281),\n",
       " ('a', 7083003595),\n",
       " ('is', 4139526351),\n",
       " ('that', 3870260345),\n",
       " ('for', 3021925527),\n",
       " ('The', 2763139452),\n",
       " ('was', 2737725870),\n",
       " ('as', 2626386982),\n",
       " ('with', 2504225400),\n",
       " ('be', 2392576396),\n",
       " ('by', 2249978492),\n",
       " ('not', 2208497726),\n",
       " ('it', 2204134503),\n",
       " ('on', 2143313303),\n",
       " ('I', 1873234887),\n",
       " ('are', 1826889845),\n",
       " ('or', 1805149769),\n",
       " ('his', 1672173489),\n",
       " ('from', 1651527506),\n",
       " ('at', 1562321315),\n",
       " ('which', 1557215562),\n",
       " ('he', 1529423270),\n",
       " ('this', 1423199366),\n",
       " ('have', 1372997478),\n",
       " ('had', 1298386780),\n",
       " ('an', 1266190915)]"
      ]
     },
     "execution_count": 9,
     "metadata": {},
     "output_type": "execute_result"
    }
   ],
   "source": [
    "english_words.most_common(30)"
   ]
  },
  {
   "cell_type": "code",
   "execution_count": 11,
   "id": "87233c10",
   "metadata": {},
   "outputs": [],
   "source": [
    "def all_substring_compositions(s):\n",
    "    \"\"\"Yield all sequences of substring that concatenate to s. If len(s) >= 1 then the first item is always [s]\"\"\"\n",
    "    if not len(s):\n",
    "        yield []\n",
    "    for i in range(len(s)):\n",
    "        for substring in all_substring_compositions(s[:i]):\n",
    "            yield substring + [s[i:]]"
   ]
  },
  {
   "cell_type": "code",
   "execution_count": 12,
   "id": "55623fe9",
   "metadata": {},
   "outputs": [],
   "source": [
    "def ngrams(data, n):\n",
    "    \"\"\"Generate a counter with all length n substrings of strings in the input counter\"\"\"\n",
    "    counts = collections.Counter()\n",
    "    for s, count in data.items():\n",
    "        for i in range(len(s) - n + 1):\n",
    "            counts[s[i:i + n]] += count\n",
    "    return counts"
   ]
  },
  {
   "cell_type": "code",
   "execution_count": 13,
   "id": "b742b602",
   "metadata": {},
   "outputs": [],
   "source": [
    "def ngrams_up_to(data, max_n):\n",
    "    \"\"\"Generate a list of counters with all length 1-maxn substrings of strings in the input counter\"\"\"\n",
    "    counts = [collections.Counter() for i in range(max_n)]\n",
    "    for s, count in tqdm(data.items(), desc=f\"Collecting (1..{max_n})-grams\"):\n",
    "        for j in range(1, max_n + 1):\n",
    "            local_counts = counts[j - 1]\n",
    "            for i in range(len(s) - j + 1):\n",
    "                local_counts[s[i:i + j]] += count\n",
    "    return counts"
   ]
  },
  {
   "cell_type": "code",
   "execution_count": 14,
   "id": "111ef2c2",
   "metadata": {},
   "outputs": [
    {
     "data": {
      "application/vnd.jupyter.widget-view+json": {
       "model_id": "da2f1a1a1a6b4d0cab56b56ce6971829",
       "version_major": 2,
       "version_minor": 0
      },
      "text/plain": [
       "Collecting (1..5)-grams:   0%|          | 0/6857277 [00:00<?, ?it/s]"
      ]
     },
     "metadata": {},
     "output_type": "display_data"
    }
   ],
   "source": [
    "english_words_ngrams = ngrams_up_to(english_words, 5)"
   ]
  },
  {
   "cell_type": "code",
   "execution_count": 18,
   "id": "437dd372",
   "metadata": {},
   "outputs": [],
   "source": [
    "def filter_ngrams(input_ngrams, min_goodness, max_n=None):\n",
    "    def ngram_goodness(ngram_length, ngram_probability):\n",
    "        \"\"\"Return an estimate of how much this ngram will help with making the encoding smaller.\"\"\"\n",
    "        # TODO: This is based just on my feeling on how the filtering should behave...\n",
    "        encoded_length = -math.log(ngram_probability)\n",
    "        return ngram_probability * ngram_length / encoded_length\n",
    "    \n",
    "    if max_n is None:\n",
    "        max_n = len(input_ngrams)\n",
    "    else:\n",
    "        max_n = min(len(input_ngrams), max_n)\n",
    "    \n",
    "    filtered_ngrams = [input_ngrams[0].copy()]\n",
    "    totals = [sum(ngrams.values()) for ngrams in input_ngrams]\n",
    "    \n",
    "    for n in trange(2, max_n + 1):\n",
    "        current_ngrams = input_ngrams[n - 1]\n",
    "        current_total = totals[n - 1]\n",
    "        \n",
    "        current_ngrams_to_keep = collections.Counter()\n",
    "        current_ngram_count = len(current_ngrams)\n",
    "                \n",
    "        for ngram, count in tqdm(current_ngrams.items(), desc=f\"Filtering {n}-tuples\"):\n",
    "            ngram_probability = count / current_total\n",
    "            if ngram_goodness(n, ngram_probability) < min_goodness:\n",
    "                continue\n",
    "            composition_probability = 0  # How probable is it that we find replicate this ngram as a combination of shorter ones\n",
    "            for composition in itertools.islice(all_substring_compositions(ngram), 1, None):\n",
    "                this_composition_probability = 1\n",
    "                try:\n",
    "                    for substring in composition:\n",
    "                        substring_probability = filtered_ngrams[len(substring) - 1][substring] / totals[len(substring) - 1]\n",
    "                        this_composition_probability *= substring_probability\n",
    "                except KeyError:  # The substring of current ngram might not be in the list if it was previously pruned\n",
    "                    pass\n",
    "                else:\n",
    "                    composition_probability += this_composition_probability\n",
    "                    if composition_probability > ngram_probability:\n",
    "                        break\n",
    "\n",
    "            if ngram_probability > composition_probability:\n",
    "                current_ngrams_to_keep[ngram] = count\n",
    "\n",
    "        print(f\"Keeping {len(current_ngrams_to_keep)} ({100 * len(current_ngrams_to_keep) / current_ngram_count:.0f}%) {n}-grams\")\n",
    "        filtered_ngrams.append(current_ngrams_to_keep)\n",
    "    \n",
    "        for i, sub_ngrams in enumerate(ngrams_up_to(filtered_ngrams[n - 1], n - 1)):\n",
    "            filtered_ngrams[i] -= sub_ngrams\n",
    "    \n",
    "    for i, (current_ngrams, current_total) in enumerate(zip(filtered_ngrams, totals)):\n",
    "        for ngram, count in current_ngrams.items():\n",
    "            ngram_probability = count / current_total\n",
    "            if ngram_goodness(n, ngram_probability) < min_goodness:\n",
    "                continue\n",
    "    \n",
    "    return [(ngrams, total) for ngrams, total in zip(filtered_ngrams, totals)]"
   ]
  },
  {
   "cell_type": "code",
   "execution_count": 34,
   "id": "aa6ae8f3",
   "metadata": {},
   "outputs": [],
   "source": [
    "def print_ngrams(data):\n",
    "    total_count = 0\n",
    "    for ngrams, total in data:\n",
    "        for ngram, count in ngrams.most_common():\n",
    "            total_count += 1\n",
    "            print(f\"{ngram!r}: {100 * count / total:.1f}%\")\n",
    "    print(f\"Total {total_count} different ngrams\")"
   ]
  },
  {
   "cell_type": "code",
   "execution_count": 35,
   "id": "0f61b411",
   "metadata": {
    "scrolled": false
   },
   "outputs": [
    {
     "data": {
      "application/vnd.jupyter.widget-view+json": {
       "model_id": "ba664c1070e0407e840360f47234b15a",
       "version_major": 2,
       "version_minor": 0
      },
      "text/plain": [
       "  0%|          | 0/4 [00:00<?, ?it/s]"
      ]
     },
     "metadata": {},
     "output_type": "display_data"
    },
    {
     "data": {
      "application/vnd.jupyter.widget-view+json": {
       "model_id": "c40e89246ead467384aac4e111db4594",
       "version_major": 2,
       "version_minor": 0
      },
      "text/plain": [
       "Filtering 2-tuples:   0%|          | 0/2704 [00:00<?, ?it/s]"
      ]
     },
     "metadata": {},
     "output_type": "display_data"
    },
    {
     "name": "stdout",
     "output_type": "stream",
     "text": [
      "Keeping 4 (0%) 2-grams\n"
     ]
    },
    {
     "data": {
      "application/vnd.jupyter.widget-view+json": {
       "model_id": "85f4997a1cb84ec5b5214268432592f0",
       "version_major": 2,
       "version_minor": 0
      },
      "text/plain": [
       "Collecting (1..1)-grams:   0%|          | 0/4 [00:00<?, ?it/s]"
      ]
     },
     "metadata": {},
     "output_type": "display_data"
    },
    {
     "data": {
      "application/vnd.jupyter.widget-view+json": {
       "model_id": "4f146132727e40c4a347150b93fd1c84",
       "version_major": 2,
       "version_minor": 0
      },
      "text/plain": [
       "Filtering 3-tuples:   0%|          | 0/107299 [00:00<?, ?it/s]"
      ]
     },
     "metadata": {},
     "output_type": "display_data"
    },
    {
     "name": "stdout",
     "output_type": "stream",
     "text": [
      "Keeping 1 (0%) 3-grams\n"
     ]
    },
    {
     "data": {
      "application/vnd.jupyter.widget-view+json": {
       "model_id": "9927f2c610324274897a5d23ed1e53ba",
       "version_major": 2,
       "version_minor": 0
      },
      "text/plain": [
       "Collecting (1..2)-grams:   0%|          | 0/1 [00:00<?, ?it/s]"
      ]
     },
     "metadata": {},
     "output_type": "display_data"
    },
    {
     "data": {
      "application/vnd.jupyter.widget-view+json": {
       "model_id": "778586f6cb934da5b2bf3cda542f4632",
       "version_major": 2,
       "version_minor": 0
      },
      "text/plain": [
       "Filtering 4-tuples:   0%|          | 0/722845 [00:00<?, ?it/s]"
      ]
     },
     "metadata": {},
     "output_type": "display_data"
    },
    {
     "name": "stdout",
     "output_type": "stream",
     "text": [
      "Keeping 0 (0%) 4-grams\n"
     ]
    },
    {
     "data": {
      "application/vnd.jupyter.widget-view+json": {
       "model_id": "496e0cdb54ca4e6589be6a30d452eaf6",
       "version_major": 2,
       "version_minor": 0
      },
      "text/plain": [
       "Collecting (1..3)-grams: 0it [00:00, ?it/s]"
      ]
     },
     "metadata": {},
     "output_type": "display_data"
    },
    {
     "data": {
      "application/vnd.jupyter.widget-view+json": {
       "model_id": "88fef06095cb49559f3e4e0a87a3b20d",
       "version_major": 2,
       "version_minor": 0
      },
      "text/plain": [
       "Filtering 5-tuples:   0%|          | 0/2433965 [00:00<?, ?it/s]"
      ]
     },
     "metadata": {},
     "output_type": "display_data"
    },
    {
     "name": "stdout",
     "output_type": "stream",
     "text": [
      "Keeping 0 (0%) 5-grams\n"
     ]
    },
    {
     "data": {
      "application/vnd.jupyter.widget-view+json": {
       "model_id": "9b72b6779aaf4b588b77840d990c024f",
       "version_major": 2,
       "version_minor": 0
      },
      "text/plain": [
       "Collecting (1..4)-grams: 0it [00:00, ?it/s]"
      ]
     },
     "metadata": {},
     "output_type": "display_data"
    },
    {
     "name": "stdout",
     "output_type": "stream",
     "text": [
      "'a': 7.8%\n",
      "'o': 7.5%\n",
      "'e': 6.6%\n",
      "'s': 6.2%\n",
      "'i': 5.4%\n",
      "'n': 5.3%\n",
      "'t': 4.6%\n",
      "'r': 4.5%\n",
      "'l': 4.0%\n",
      "'d': 3.7%\n",
      "'c': 3.1%\n",
      "'u': 2.7%\n",
      "'m': 2.4%\n",
      "'f': 2.2%\n",
      "'p': 2.0%\n",
      "'g': 1.8%\n",
      "'y': 1.6%\n",
      "'w': 1.5%\n",
      "'b': 1.3%\n",
      "'v': 1.0%\n",
      "'k': 0.5%\n",
      "'T': 0.4%\n",
      "'I': 0.3%\n",
      "'A': 0.3%\n",
      "'S': 0.3%\n",
      "'C': 0.3%\n",
      "'x': 0.2%\n",
      "'M': 0.2%\n",
      "'E': 0.2%\n",
      "'P': 0.2%\n",
      "'H': 0.2%\n",
      "'B': 0.2%\n",
      "'R': 0.2%\n",
      "'N': 0.1%\n",
      "'L': 0.1%\n",
      "'W': 0.1%\n",
      "'F': 0.1%\n",
      "'D': 0.1%\n",
      "'O': 0.1%\n",
      "'q': 0.1%\n",
      "'G': 0.1%\n",
      "'j': 0.1%\n",
      "'z': 0.1%\n",
      "'J': 0.1%\n",
      "'U': 0.1%\n",
      "'V': 0.0%\n",
      "'Y': 0.0%\n",
      "'K': 0.0%\n",
      "'X': 0.0%\n",
      "'Q': 0.0%\n",
      "'Z': 0.0%\n",
      "'in': 2.3%\n",
      "'er': 2.0%\n",
      "'th': 1.0%\n",
      "'he': 0.8%\n",
      "'the': 2.8%\n",
      "Total 56 different ngrams\n"
     ]
    }
   ],
   "source": [
    "print_ngrams(filter_ngrams(english_words_ngrams, 0.01, max_n=5))"
   ]
  },
  {
   "cell_type": "markdown",
   "id": "35f9e068",
   "metadata": {},
   "source": [
    "## Dictionary extras\n",
    "Padding the dictionary with ngrams by stuff that we expect to appear in the inputs, but which is not contained in the english words dataset.\n",
    "\n",
    "The weights of different symbols are manually estimated and may be significantly non-optimal."
   ]
  },
  {
   "cell_type": "code",
   "execution_count": null,
   "id": "254249d0",
   "metadata": {},
   "outputs": [],
   "source": [
    "def merge_ngrams(*weighted_ngrams):\n",
    "    \"\"\" Merge tuples of (weight, ngrams) to a single ngram block.\n",
    "    Weights within each ngram block are normalized first, so that they sum up to 1. \"\"\"\n",
    "    weights = [sum(sum)]"
   ]
  },
  {
   "cell_type": "markdown",
   "id": "d518b387",
   "metadata": {},
   "source": [
    "### Numbers"
   ]
  },
  {
   "cell_type": "code",
   "execution_count": 267,
   "id": "11ec76b9",
   "metadata": {},
   "outputs": [],
   "source": [
    "def generate_numbers_ngrams(p=0.2, max_value=100000, max_ngram_length=3):\n",
    "    ret = [collections.Counter() for _ in range(max_ngram_length)]\n",
    "    for i in range(max_value):\n",
    "        weight = p * (1 - p)**i\n",
    "        s = str(i)\n",
    "        for n in range(1, max_ngram_length + 1):\n",
    "            for k in range(len(s) - n + 1):\n",
    "                ret[n - 1][s[k:k + n]] += weight\n",
    "    for i in range(int(math.log2(max_value))):\n",
    "        weight = 2 * p * (1 - p)**i\n",
    "        s = str(2**i)\n",
    "        for n in range(1, max_ngram_length + 1):\n",
    "            for k in range(len(s) - n + 1):\n",
    "                ret[n - 1][s[k:k + n]] += weight\n",
    "    for i in range(int(math.log10(max_value))):\n",
    "        weight = 5 * p * (1 - p)**i\n",
    "        s = str(10**i)\n",
    "        for n in range(1, max_ngram_length + 1):\n",
    "            for k in range(len(s) - n + 1):\n",
    "                ret[n - 1][s[k:k + n]] += weight\n",
    "    return ret"
   ]
  },
  {
   "cell_type": "code",
   "execution_count": 268,
   "id": "8ef6e00f",
   "metadata": {},
   "outputs": [
    {
     "data": {
      "text/plain": [
       "[Counter({'0': 5.583255252124566,\n",
       "          '1': 4.420636670273363,\n",
       "          '2': 0.9228158548769465,\n",
       "          '3': 0.2785606736790921,\n",
       "          '4': 0.5751398156368607,\n",
       "          '5': 0.19422803697928404,\n",
       "          '6': 0.45369703095775055,\n",
       "          '7': 0.06106227446817082,\n",
       "          '8': 0.4142927045753243,\n",
       "          '9': 0.07955058734377189}),\n",
       " Counter({'10': 2.426024509626206,\n",
       "          '11': 0.01717986920702357,\n",
       "          '12': 0.15131706655209612,\n",
       "          '13': 0.010995116280224851,\n",
       "          '14': 0.008796093024023973,\n",
       "          '15': 0.007036874419202439,\n",
       "          '16': 0.1870616855797762,\n",
       "          '17': 0.004503599628287931,\n",
       "          '18': 0.003602879702630323,\n",
       "          '19': 0.024872536317624275,\n",
       "          '20': 0.03666558137768343,\n",
       "          '21': 0.0018446744077467243,\n",
       "          '22': 0.0014757395261973795,\n",
       "          '23': 0.0011805916209579037,\n",
       "          '24': 0.043894146256766346,\n",
       "          '25': 0.06786444263741309,\n",
       "          '26': 0.0006044629099304468,\n",
       "          '27': 0.014557319163477172,\n",
       "          '28': 0.08427293626235552,\n",
       "          '29': 0.0003094850098843888,\n",
       "          '30': 0.00024758800790751105,\n",
       "          '31': 0.00019807040632600884,\n",
       "          '32': 0.14530420516059367,\n",
       "          '33': 0.00012676506004864567,\n",
       "          '34': 0.00010141204803891654,\n",
       "          '35': 8.112963843113324e-05,\n",
       "          '36': 6.490371074490659e-05,\n",
       "          '37': 5.192296859592528e-05,\n",
       "          '38': 0.017633724419292757,\n",
       "          '39': 3.3230699901392185e-05,\n",
       "          '40': 0.02751437525432113,\n",
       "          '41': 2.1267647936891e-05,\n",
       "          '42': 1.70141183495128e-05,\n",
       "          '43': 1.3611294679610243e-05,\n",
       "          '44': 1.0889035743688193e-05,\n",
       "          '45': 8.711228594950556e-06,\n",
       "          '46': 6.968982875960445e-06,\n",
       "          '47': 5.5751863007683566e-06,\n",
       "          '48': 0.03436419851704064,\n",
       "          '49': 3.5681192324917484e-06,\n",
       "          '50': 2.854495385993399e-06,\n",
       "          '51': 0.05368937479630882,\n",
       "          '52': 1.8268770470357756e-06,\n",
       "          '53': 1.4615016376286204e-06,\n",
       "          '54': 1.1692013101028963e-06,\n",
       "          '55': 9.353610480823172e-07,\n",
       "          '56': 0.0671096122888385,\n",
       "          '57': 5.986310707726831e-07,\n",
       "          '58': 4.789048566181466e-07,\n",
       "          '59': 3.8312388529451724e-07,\n",
       "          '60': 3.0649910823561375e-07,\n",
       "          '61': 2.45199286588491e-07,\n",
       "          '62': 1.9615942927079286e-07,\n",
       "          '63': 0.017592342971959433,\n",
       "          '64': 0.10485772554203479,\n",
       "          '65': 1.0043362778664594e-07,\n",
       "          '66': 8.034690222931677e-08,\n",
       "          '67': 6.427752178345342e-08,\n",
       "          '68': 0.01407380025755024,\n",
       "          '69': 4.113761394141019e-08,\n",
       "          '70': 3.291009115312815e-08,\n",
       "          '71': 2.6328072922502526e-08,\n",
       "          '72': 2.1062458338002023e-08,\n",
       "          '73': 1.6849966670401618e-08,\n",
       "          '74': 1.3479973336321294e-08,\n",
       "          '75': 1.0783978669057037e-08,\n",
       "          '76': 0.014073757462715749,\n",
       "          '77': 6.901746348196505e-09,\n",
       "          '78': 5.521397078557203e-09,\n",
       "          '79': 4.417117662845764e-09,\n",
       "          '80': 3.533694130276611e-09,\n",
       "          '81': 0.021990235382475323,\n",
       "          '82': 2.261564243377031e-09,\n",
       "          '83': 1.8092513947016248e-09,\n",
       "          '84': 0.01759218749181713,\n",
       "          '85': 1.15792089260904e-09,\n",
       "          '86': 9.263367140872321e-10,\n",
       "          '87': 7.410693712697857e-10,\n",
       "          '88': 5.928554970158287e-10,\n",
       "          '89': 4.74284397612663e-10,\n",
       "          '90': 3.794275180901304e-10,\n",
       "          '91': 3.035420144721043e-10,\n",
       "          '92': 0.021990232798353628,\n",
       "          '93': 1.942668892621468e-10,\n",
       "          '94': 1.5541351140971745e-10,\n",
       "          '95': 1.2433080912777396e-10,\n",
       "          '96': 0.027487790793864667,\n",
       "          '97': 7.957171784177534e-11,\n",
       "          '98': 6.365737427342027e-11,\n",
       "          '99': 5.0925899418736226e-11,\n",
       "          '00': 2.8928000000407414,\n",
       "          '01': 3.2592575627991186e-11,\n",
       "          '02': 0.042949672986074085,\n",
       "          '03': 2.085924840191436e-11,\n",
       "          '04': 0.03435973838468742,\n",
       "          '05': 1.3349918977225192e-11,\n",
       "          '06': 1.0679935181780155e-11,\n",
       "          '07': 8.543948145424124e-12,\n",
       "          '08': 6.835158516339299e-12,\n",
       "          '09': 0.027487790699868144}),\n",
       " Counter({'100': 1.561600000040741,\n",
       "          '101': 3.259257562135196e-11,\n",
       "          '102': 0.042949672986074085,\n",
       "          '103': 2.0859248397665256e-11,\n",
       "          '104': 1.6687398718132206e-11,\n",
       "          '105': 1.3349918974505766e-11,\n",
       "          '106': 1.0679935179604613e-11,\n",
       "          '107': 8.54394814368369e-12,\n",
       "          '108': 6.835158514946953e-12,\n",
       "          '109': 5.468126811957563e-12,\n",
       "          '110': 4.374501449566051e-12,\n",
       "          '111': 3.4996011596528407e-12,\n",
       "          '112': 2.7996809277222726e-12,\n",
       "          '113': 2.2397447421778185e-12,\n",
       "          '114': 1.7917957937422548e-12,\n",
       "          '115': 1.433436634993804e-12,\n",
       "          '116': 1.1467493079950433e-12,\n",
       "          '117': 9.173994463960346e-13,\n",
       "          '118': 7.339195571168277e-13,\n",
       "          '119': 5.871356456934622e-13,\n",
       "          '120': 4.697085165547698e-13,\n",
       "          '121': 3.757668132438158e-13,\n",
       "          '122': 3.006134505950527e-13,\n",
       "          '123': 2.4049076047604217e-13,\n",
       "          '124': 1.9239260838083376e-13,\n",
       "          '125': 1.53914086704667e-13,\n",
       "          '126': 1.231312693637336e-13,\n",
       "          '127': 9.85050154909869e-14,\n",
       "          '128': 0.08388608000007883,\n",
       "          '129': 6.304320991423161e-14,\n",
       "          '130': 5.0434567931385305e-14,\n",
       "          '131': 4.034765434510824e-14,\n",
       "          '132': 3.227812347608659e-14,\n",
       "          '133': 2.5822498780869276e-14,\n",
       "          '134': 2.0657999024695424e-14,\n",
       "          '135': 1.652639921975634e-14,\n",
       "          '136': 1.3221119375805074e-14,\n",
       "          '137': 1.0576895500644059e-14,\n",
       "          '138': 8.461516400515247e-15,\n",
       "          '139': 6.7692131204121976e-15,\n",
       "          '140': 5.415370496329759e-15,\n",
       "          '141': 4.332296397063807e-15,\n",
       "          '142': 3.465837117651046e-15,\n",
       "          '143': 2.772669694120837e-15,\n",
       "          '144': 2.21813575529667e-15,\n",
       "          '145': 1.774508604237336e-15,\n",
       "          '146': 1.4196068833898688e-15,\n",
       "          '147': 1.1356855067118952e-15,\n",
       "          '148': 9.08548405369516e-16,\n",
       "          '149': 7.268387242956129e-16,\n",
       "          '150': 5.814709794364904e-16,\n",
       "          '151': 4.651767835491924e-16,\n",
       "          '152': 3.7214142683935385e-16,\n",
       "          '153': 2.9771314147148314e-16,\n",
       "          '154': 2.3817051317718654e-16,\n",
       "          '155': 1.905364105417492e-16,\n",
       "          '156': 1.524291284333994e-16,\n",
       "          '157': 1.2194330274671951e-16,\n",
       "          '158': 9.755464219737562e-17,\n",
       "          '159': 7.80437137579005e-17,\n",
       "          '160': 6.24349710063204e-17,\n",
       "          '161': 4.9947976805056323e-17,\n",
       "          '162': 3.995838144404506e-17,\n",
       "          '163': 0.017592186044416046,\n",
       "          '164': 2.557336412418884e-17,\n",
       "          '165': 2.0458691299351075e-17,\n",
       "          '166': 1.636695303948086e-17,\n",
       "          '167': 1.3093562431584688e-17,\n",
       "          '168': 1.0474849945267753e-17,\n",
       "          '169': 8.379879956214203e-18,\n",
       "          '170': 6.7039039649713616e-18,\n",
       "          '171': 5.36312317197709e-18,\n",
       "          '172': 4.290498537581672e-18,\n",
       "          '173': 3.432398830065338e-18,\n",
       "          '174': 2.7459190640522705e-18,\n",
       "          '175': 2.1967352512418167e-18,\n",
       "          '176': 1.7573882009934533e-18,\n",
       "          '177': 1.4059105607947627e-18,\n",
       "          '178': 1.1247284486358103e-18,\n",
       "          '179': 8.997827589086483e-19,\n",
       "          '180': 7.198262071269187e-19,\n",
       "          '181': 5.758609657015349e-19,\n",
       "          '182': 4.606887725612279e-19,\n",
       "          '183': 3.6855101804898242e-19,\n",
       "          '184': 2.9484081443918595e-19,\n",
       "          '185': 2.3587265155134877e-19,\n",
       "          '186': 1.8869812124107902e-19,\n",
       "          '187': 1.5095849699286324e-19,\n",
       "          '188': 1.2076679759429058e-19,\n",
       "          '189': 9.661343807543247e-20,\n",
       "          '190': 7.729075046034599e-20,\n",
       "          '191': 6.183260036827679e-20,\n",
       "          '192': 0.021990232555520017,\n",
       "          '193': 3.9572864235697153e-20,\n",
       "          '194': 3.1658291388557726e-20,\n",
       "          '195': 2.5326633110846176e-20,\n",
       "          '196': 2.0261306488676946e-20,\n",
       "          '197': 1.6209045190941558e-20,\n",
       "          '198': 1.2967236152753247e-20,\n",
       "          '199': 1.0373788922202597e-20,\n",
       "          '200': 8.299031137762079e-21,\n",
       "          '201': 6.6392249102096635e-21,\n",
       "          '202': 5.311379928167731e-21,\n",
       "          '203': 4.249103942534185e-21,\n",
       "          '204': 0.03435973836800002,\n",
       "          '205': 2.7194265232218785e-21,\n",
       "          '206': 2.175541218577503e-21,\n",
       "          '207': 1.7404329748620025e-21,\n",
       "          '208': 1.3923463798896022e-21,\n",
       "          '209': 1.1138771039116818e-21,\n",
       "          '210': 8.911016831293454e-22,\n",
       "          '211': 7.128813465034763e-22,\n",
       "          '212': 5.7030507720278115e-22,\n",
       "          '213': 4.562440617622249e-22,\n",
       "          '214': 3.6499524940977996e-22,\n",
       "          '215': 2.91996199527824e-22,\n",
       "          '216': 2.335969596222592e-22,\n",
       "          '217': 1.8687756769780736e-22,\n",
       "          '218': 1.495020541582459e-22,\n",
       "          '219': 1.1960164332659673e-22,\n",
       "          '220': 9.568131466127738e-23,\n",
       "          '221': 7.654505172902192e-23,\n",
       "          '222': 6.123604138321754e-23,\n",
       "          '223': 4.8988833106574037e-23,\n",
       "          '224': 3.9191066485259226e-23,\n",
       "          '225': 3.135285318820739e-23,\n",
       "          '226': 2.5082282550565906e-23,\n",
       "          '227': 2.0065826040452728e-23,\n",
       "          '228': 1.6052660832362184e-23,\n",
       "          '229': 1.2842128665889747e-23,\n",
       "          '230': 1.0273702932711799e-23,\n",
       "          '231': 8.21896234616944e-24,\n",
       "          '232': 6.575169876935552e-24,\n",
       "          '233': 5.2601359015484416e-24,\n",
       "          '234': 4.208108721238754e-24,\n",
       "          '235': 3.366486976991003e-24,\n",
       "          '236': 2.693189581592803e-24,\n",
       "          '237': 2.1545516652742424e-24,\n",
       "          '238': 1.723641332219394e-24,\n",
       "          '239': 1.3789130657755151e-24,\n",
       "          '240': 1.1031304526204121e-24,\n",
       "          '241': 8.825043620963299e-25,\n",
       "          '242': 7.060034896770639e-25,\n",
       "          '243': 5.648027917416512e-25,\n",
       "          '244': 4.518422333933209e-25,\n",
       "          '245': 3.6147378671465674e-25,\n",
       "          '246': 2.8917902937172543e-25,\n",
       "          '247': 2.3134322349738034e-25,\n",
       "          '248': 1.8507457879790428e-25,\n",
       "          '249': 1.4805966303832344e-25,\n",
       "          '250': 1.1844773043065877e-25,\n",
       "          '251': 9.475818434452702e-26,\n",
       "          '252': 7.580654747562161e-26,\n",
       "          '253': 6.06452379804973e-26,\n",
       "          '254': 4.8516190384397843e-26,\n",
       "          '255': 3.881295230751828e-26,\n",
       "          '256': 0.06710886400000003,\n",
       "          '257': 2.4840289476811698e-26,\n",
       "          '258': 1.987223158144936e-26,\n",
       "          '259': 1.5897785265159488e-26,\n",
       "          '260': 1.2718228212127591e-26,\n",
       "          '261': 1.0174582569702074e-26,\n",
       "          '262': 8.13966605576166e-27,\n",
       "          '263': 6.511732844609329e-27,\n",
       "          '264': 5.209386275687462e-27,\n",
       "          '265': 4.1675090205499706e-27,\n",
       "          '266': 3.3340072164399766e-27,\n",
       "          '267': 2.6672057731519814e-27,\n",
       "          '268': 2.1337646185215852e-27,\n",
       "          '269': 1.7070116948172682e-27,\n",
       "          '270': 1.3656093558538147e-27,\n",
       "          '271': 1.092487484683052e-27,\n",
       "          '272': 8.739899877464414e-28,\n",
       "          '273': 6.991919901971532e-28,\n",
       "          '274': 5.593535921577227e-28,\n",
       "          '275': 4.474828737261781e-28,\n",
       "          '276': 0.014073748835532814,\n",
       "          '277': 2.8638903918475403e-28,\n",
       "          '278': 2.2911123134780324e-28,\n",
       "          '279': 1.8328898507824261e-28,\n",
       "          '280': 1.466311880625941e-28,\n",
       "          '281': 1.1730495045007528e-28,\n",
       "          '282': 9.384396036006023e-29,\n",
       "          '283': 7.507516828804818e-29,\n",
       "          '284': 6.006013463043855e-29,\n",
       "          '285': 4.804810770435084e-29,\n",
       "          '286': 3.8438486163480677e-29,\n",
       "          '287': 3.075078893078454e-29,\n",
       "          '288': 2.4600631144627634e-29,\n",
       "          '289': 1.9680504915702111e-29,\n",
       "          '290': 1.574440393256169e-29,\n",
       "          '291': 1.2595523146049352e-29,\n",
       "          '292': 1.0076418516839481e-29,\n",
       "          '293': 8.061134813471586e-30,\n",
       "          '294': 6.448907850777269e-30,\n",
       "          '295': 5.159126280621816e-30,\n",
       "          '296': 4.127301024497453e-30,\n",
       "          '297': 3.301840819597962e-30,\n",
       "          '298': 2.64147265567837e-30,\n",
       "          '299': 2.113178124542696e-30,\n",
       "          '300': 1.690542499634157e-30,\n",
       "          '301': 1.3524339997073256e-30,\n",
       "          '302': 1.0819471997658607e-30,\n",
       "          '303': 8.655577598126885e-31,\n",
       "          '304': 6.92446207850151e-31,\n",
       "          '305': 5.539569662801207e-31,\n",
       "          '306': 4.4316557302409655e-31,\n",
       "          '307': 3.5453245841927734e-31,\n",
       "          '308': 2.8362596673542187e-31,\n",
       "          '309': 2.269007733883375e-31,\n",
       "          '310': 1.8152061871067e-31,\n",
       "          '311': 1.4521649496853601e-31,\n",
       "          '312': 1.161731959748288e-31,\n",
       "          '313': 9.293855677986307e-32,\n",
       "          '314': 7.435084542389045e-32,\n",
       "          '315': 5.948067633911237e-32,\n",
       "          '316': 4.75845410712899e-32,\n",
       "          '317': 3.8067632857031917e-32,\n",
       "          '318': 3.0454106285625537e-32,\n",
       "          '319': 2.436328502850043e-32,\n",
       "          '320': 1.9490628022800346e-32,\n",
       "          '321': 1.5592502418240277e-32,\n",
       "          '322': 1.2474001934592223e-32,\n",
       "          '323': 9.979201547673779e-33,\n",
       "          '324': 7.983361238139024e-33,\n",
       "          '325': 6.386688990511219e-33,\n",
       "          '326': 5.1093511924089756e-33,\n",
       "          '327': 0.014073748835532814,\n",
       "          '328': 3.269984763141744e-33,\n",
       "          '329': 2.615987810513396e-33,\n",
       "          '330': 2.092790248410717e-33,\n",
       "          '331': 1.6742321987285733e-33,\n",
       "          '332': 1.339385758982859e-33,\n",
       "          '333': 1.0715086071862872e-33,\n",
       "          '334': 8.572068857490298e-34,\n",
       "          '335': 6.857655085992238e-34,\n",
       "          '336': 5.486124068793791e-34,\n",
       "          '337': 4.388899255035033e-34,\n",
       "          '338': 3.5111194040280267e-34,\n",
       "          '339': 2.8088955232224217e-34,\n",
       "          '340': 2.2471164185779373e-34,\n",
       "          '341': 1.79769313486235e-34,\n",
       "          '342': 1.4381545078898801e-34,\n",
       "          '343': 1.1505236063119042e-34,\n",
       "          '344': 9.204188850495234e-35,\n",
       "          '345': 7.363351080396187e-35,\n",
       "          '346': 5.890680864316951e-35,\n",
       "          '347': 4.71254469145356e-35,\n",
       "          '348': 3.7700357531628485e-35,\n",
       "          '349': 3.016028602530279e-35,\n",
       "          '350': 2.4128228820242233e-35,\n",
       "          '351': 1.9302583056193788e-35,\n",
       "          '352': 1.5442066444955032e-35,\n",
       "          '353': 1.2353653155964026e-35,\n",
       "          '354': 9.882922524771222e-36,\n",
       "          '355': 7.906338019816977e-36,\n",
       "          '356': 6.325070415853582e-36,\n",
       "          '357': 5.0600563326828664e-36,\n",
       "          '358': 4.0480450661462926e-36,\n",
       "          '359': 3.238436052917035e-36,\n",
       "          '360': 2.5907488423336278e-36,\n",
       "          '361': 2.0725990738669023e-36,\n",
       "          '362': 1.658079259093522e-36,\n",
       "          '363': 1.3264634072748176e-36,\n",
       "          '364': 1.0611707258198542e-36,\n",
       "          '365': 8.489365806558833e-37,\n",
       "          '366': 6.791492645247067e-37,\n",
       "          '367': 5.433194116197654e-37,\n",
       "          '368': 4.346555292958124e-37,\n",
       "          '369': 3.477244234366499e-37,\n",
       "          '370': 2.7817953874931993e-37,\n",
       "          '371': 2.22543630999456e-37,\n",
       "          '372': 1.7803490479956478e-37,\n",
       "          '373': 1.4242792383965183e-37,\n",
       "          '374': 1.1394233907172148e-37,\n",
       "          '375': 9.115387125737719e-38,\n",
       "          '376': 7.292309700590175e-38,\n",
       "          '377': 5.833847760472141e-38,\n",
       "          '378': 4.6670782083777127e-38,\n",
       "          '379': 3.7336625667021705e-38,\n",
       "          '380': 2.9869300533617366e-38,\n",
       "          '381': 2.3895440426893894e-38,\n",
       "          '382': 1.9116352341515116e-38,\n",
       "          '383': 1.5293081873212094e-38,\n",
       "          '384': 0.017592186044416015,\n",
       "          '385': 9.787572398855741e-39,\n",
       "          '386': 7.830057919084593e-39,\n",
       "          '387': 6.264046335267675e-39,\n",
       "          '388': 5.01123706821414e-39,\n",
       "          '389': 4.008989654571312e-39,\n",
       "          '390': 3.20719172365705e-39,\n",
       "          '391': 2.56575337892564e-39,\n",
       "          '392': 2.0526027031405124e-39,\n",
       "          '393': 1.64208216251241e-39,\n",
       "          '394': 1.313665730009928e-39,\n",
       "          '395': 1.0509325840079425e-39,\n",
       "          '396': 8.40746067206354e-40,\n",
       "          '397': 6.725968537650833e-40,\n",
       "          '398': 5.380774830120666e-40,\n",
       "          '399': 4.304619864096533e-40,\n",
       "          '400': 3.443695891277227e-40,\n",
       "          '401': 2.754956713021782e-40,\n",
       "          '402': 2.2039653704174253e-40,\n",
       "          '403': 1.7631722963339403e-40,\n",
       "          '404': 1.4105378370671523e-40,\n",
       "          '405': 1.128430269653722e-40,\n",
       "          '406': 9.027442157229777e-41,\n",
       "          '407': 7.221953725783821e-41,\n",
       "          '408': 5.777562980627058e-41,\n",
       "          '409': 0.027487790694400018,\n",
       "          '410': 3.6976403076013177e-41,\n",
       "          '411': 2.9581122460810537e-41,\n",
       "          '412': 2.366489796864843e-41,\n",
       "          '413': 1.8931918374918747e-41,\n",
       "          '414': 1.5145534699934998e-41,\n",
       "          '415': 1.2116427759948e-41,\n",
       "          '416': 9.693142207958401e-42,\n",
       "          '417': 7.75451376636672e-42,\n",
       "          '418': 6.203611013093377e-42,\n",
       "          '419': 4.9628888104747014e-42,\n",
       "          '420': 3.970311048379762e-42,\n",
       "          '421': 3.1762488387038095e-42,\n",
       "          '422': 2.5409990709630477e-42,\n",
       "          '423': 2.032799256770438e-42,\n",
       "          '424': 1.626239405416351e-42,\n",
       "          '425': 1.3009915243330807e-42,\n",
       "          '426': 1.0407932194664647e-42,\n",
       "          '427': 8.326345755731716e-43,\n",
       "          '428': 6.661076604585375e-43,\n",
       "          '429': 5.3288612836683e-43,\n",
       "          '430': 4.26308902693464e-43,\n",
       "          '431': 3.4104712215477122e-43,\n",
       "          '432': 2.72837697723817e-43,\n",
       "          '433': 2.182701581790536e-43,\n",
       "          '434': 1.746161265432429e-43,\n",
       "          '435': 1.396929012345943e-43,\n",
       "          '436': 1.1175432098767547e-43,\n",
       "          '437': 8.940345679014037e-44,\n",
       "          '438': 7.15227654321123e-44,\n",
       "          '439': 5.721821234568984e-44,\n",
       "          '440': 4.577456987655188e-44,\n",
       "          '441': 3.6619655901241505e-44,\n",
       "          '442': 2.9295724720993206e-44,\n",
       "          '443': 2.3436579776794567e-44,\n",
       "          '444': 1.8749263821435654e-44,\n",
       "          '445': 1.4999411057148525e-44,\n",
       "          '446': 1.199952884571882e-44,\n",
       "          '447': 9.599623076575056e-45,\n",
       "          '448': 7.679698461260045e-45,\n",
       "          '449': 6.143758769008037e-45,\n",
       "          '450': 4.9150070152064294e-45,\n",
       "          '451': 3.932005612165144e-45,\n",
       "          '452': 3.145604489732115e-45,\n",
       "          '453': 2.5164835917856922e-45,\n",
       "          '454': 2.013186873428554e-45,\n",
       "          '455': 1.6105494987428432e-45,\n",
       "          '456': 1.2884395989942746e-45,\n",
       "          '457': 1.0307516791954198e-45,\n",
       "          '458': 8.246013433563359e-46,\n",
       "          '459': 6.596810746850687e-46,\n",
       "          '460': 5.27744859748055e-46,\n",
       "          '461': 4.221958877984441e-46,\n",
       "          '462': 3.3775671023875523e-46,\n",
       "          '463': 2.7020536819100425e-46,\n",
       "          '464': 2.161642945528034e-46,\n",
       "          '465': 1.7293143564224273e-46,\n",
       "          '466': 1.383451485137942e-46,\n",
       "          '467': 1.1067611881103536e-46,\n",
       "          '468': 8.85408950488283e-47,\n",
       "          '469': 7.083271603906264e-47,\n",
       "          '470': 5.666617283125011e-47,\n",
       "          '471': 4.53329382650001e-47,\n",
       "          '472': 3.626635061200008e-47,\n",
       "          '473': 2.9013080489600063e-47,\n",
       "          '474': 2.321046439168005e-47,\n",
       "          '475': 1.8568371513344042e-47,\n",
       "          '476': 1.4854697210675233e-47,\n",
       "          '477': 1.1883757768540187e-47,\n",
       "          '478': 9.50700621483215e-48,\n",
       "          '479': 7.605604971865722e-48,\n",
       "          '480': 6.084483977492577e-48,\n",
       "          '481': 4.867587181994062e-48,\n",
       "          '482': 3.89406974559525e-48,\n",
       "          '483': 3.1152557964762e-48,\n",
       "          '484': 2.4922046371809603e-48,\n",
       "          '485': 1.9937637097447683e-48,\n",
       "          '486': 1.5950109677958147e-48,\n",
       "          '487': 1.2760087742366518e-48,\n",
       "          '488': 1.0208070193893215e-48,\n",
       "          '489': 8.166456155114572e-49,\n",
       "          '490': 6.5331649240916584e-49,\n",
       "          '491': 5.226531939273327e-49,\n",
       "          '492': 4.181225551418662e-49,\n",
       "          '493': 3.3449804411349297e-49,\n",
       "          '494': 2.6759843529079438e-49,\n",
       "          '495': 2.140787482326355e-49,\n",
       "          '496': 1.7126299858610843e-49,\n",
       "          '497': 1.3701039886888676e-49,\n",
       "          '498': 1.096083190951094e-49,\n",
       "          '499': 8.768665527608752e-50,\n",
       "          '500': 7.014932422087002e-50,\n",
       "          '501': 5.611945937669603e-50,\n",
       "          '502': 4.489556750135682e-50,\n",
       "          '503': 3.5916454001085463e-50,\n",
       "          '504': 2.873316320086837e-50,\n",
       "          '505': 2.29865305606947e-50,\n",
       "          '506': 1.838922444855576e-50,\n",
       "          '507': 1.4711379558844608e-50,\n",
       "          '508': 1.1769103647075686e-50,\n",
       "          '509': 9.415282917660549e-51,\n",
       "          '510': 7.532226334128441e-51,\n",
       "          '511': 6.025781067302753e-51,\n",
       "          '512': 0.05368709120000003,\n",
       "          '513': 3.8564998830737624e-51,\n",
       "          '514': 3.08519990645901e-51,\n",
       "          '515': 2.4681599251672082e-51,\n",
       "          '516': 1.9745279401337663e-51,\n",
       "          '517': 1.5796223521070133e-51,\n",
       "          '518': 1.2636978816856107e-51,\n",
       "          '519': 1.0109583053484886e-51,\n",
       "          '520': 8.087666442787909e-52,\n",
       "          '521': 6.470133154230328e-52,\n",
       "          '522': 5.176106523384263e-52,\n",
       "          '523': 4.1408852187074105e-52,\n",
       "          '524': 3.3127081749659284e-52,\n",
       "          '525': 2.6501665399727428e-52,\n",
       "          '526': 2.1201332319781945e-52,\n",
       "          '527': 1.6961065855825556e-52,\n",
       "          '528': 1.3568852684660446e-52,\n",
       "          '529': 1.0855082147728358e-52,\n",
       "          '530': 8.684065718182687e-53,\n",
       "          '531': 6.94725257454615e-53,\n",
       "          '532': 5.55780205963692e-53,\n",
       "          '533': 4.446241647709536e-53,\n",
       "          '534': 3.556993318167629e-53,\n",
       "          '535': 2.845594654534104e-53,\n",
       "          '536': 2.2764757236272827e-53,\n",
       "          '537': 1.8211805789018267e-53,\n",
       "          '538': 1.4569444631214613e-53,\n",
       "          '539': 1.1655555704971692e-53,\n",
       "          '540': 9.324444563977354e-54,\n",
       "          '541': 7.459555651181883e-54,\n",
       "          '542': 5.967644520945507e-54,\n",
       "          '543': 4.774115616756406e-54,\n",
       "          '544': 3.819292493405124e-54,\n",
       "          '545': 3.0554339947241e-54,\n",
       "          '546': 2.4443471957792802e-54,\n",
       "          '547': 1.9554777566234243e-54,\n",
       "          '548': 1.5643822052987393e-54,\n",
       "          '549': 1.2515057642389915e-54,\n",
       "          '550': 1.0012046113911934e-54,\n",
       "          '551': 8.009636891129547e-55,\n",
       "          '552': 6.407709512903638e-55,\n",
       "          '553': 5.12616761032291e-55,\n",
       "          '554': 4.100934088258329e-55,\n",
       "          '555': 3.280747270606663e-55,\n",
       "          '556': 2.6245978164853305e-55,\n",
       "          '557': 2.099678253188265e-55,\n",
       "          '558': 1.6797426025506116e-55,\n",
       "          '559': 1.3437940820404897e-55,\n",
       "          '560': 1.0750352656323917e-55,\n",
       "          '561': 8.600282125059134e-56,\n",
       "          '562': 6.880225700047307e-56,\n",
       "          '563': 5.504180560037847e-56,\n",
       "          '564': 4.403344448030277e-56,\n",
       "          '565': 3.5226755584242226e-56,\n",
       "          '566': 2.818140446739378e-56,\n",
       "          '567': 2.2545123573915025e-56,\n",
       "          '568': 1.803609885913202e-56,\n",
       "          '569': 1.4428879087305618e-56,\n",
       "          '570': 1.1543103269844495e-56,\n",
       "          '571': 9.234482615875596e-57,\n",
       "          '572': 7.387586092700477e-57,\n",
       "          '573': 5.910068874160382e-57,\n",
       "          '574': 4.728055099328306e-57,\n",
       "          '575': 3.782444079462645e-57,\n",
       "          '576': 3.025955263570116e-57,\n",
       "          '577': 2.420764210856093e-57,\n",
       "          '578': 1.9366113686848745e-57,\n",
       "          '579': 1.5492890949478996e-57,\n",
       "          '580': 1.2394312759583198e-57,\n",
       "          '581': 9.915450207666558e-58,\n",
       "          '582': 7.932360166133249e-58,\n",
       "          '583': 6.3458881329065984e-58,\n",
       "          '584': 5.076710506325279e-58,\n",
       "          '585': 4.061368405060224e-58,\n",
       "          '586': 3.2490947240481785e-58,\n",
       "          '587': 2.5992757792385434e-58,\n",
       "          '588': 2.079420623390835e-58,\n",
       "          '589': 1.6635364987126677e-58,\n",
       "          '590': 1.3308291989701345e-58,\n",
       "          '591': 1.0646633591761075e-58,\n",
       "          '592': 8.51730687340886e-59,\n",
       "          '593': 6.813845498727088e-59,\n",
       "          '594': 5.451076398981672e-59,\n",
       "          '595': 4.360861119185338e-59,\n",
       "          '596': 3.48868889534827e-59,\n",
       "          '597': 2.790951116278616e-59,\n",
       "          '598': 2.2327608930228933e-59,\n",
       "          '599': 1.7862087144183147e-59,\n",
       "          '600': 1.4289669715346518e-59,\n",
       "          '601': 1.1431735772277215e-59,\n",
       "          '602': 9.145388617821773e-60,\n",
       "          '603': 7.316310894257418e-60,\n",
       "          '604': 5.853048715405935e-60,\n",
       "          '605': 4.682438972324748e-60,\n",
       "          '606': 3.745951177859799e-60,\n",
       "          '607': 2.9967609422878395e-60,\n",
       "          '608': 2.3974087538302716e-60,\n",
       "          '609': 1.9179270030642174e-60,\n",
       "          '610': 1.534341602451374e-60,\n",
       "          '611': 1.2274732819610993e-60,\n",
       "          '612': 9.819786255688795e-61,\n",
       "          '613': 7.855829004551036e-61,\n",
       "          '614': 6.284663203640829e-61,\n",
       "          '615': 5.0277305629126635e-61,\n",
       "          '616': 4.0221844503301314e-61,\n",
       "          '617': 3.2177475602641054e-61,\n",
       "          '618': 2.5741980482112846e-61,\n",
       "          '619': 2.0593584385690274e-61,\n",
       "          '620': 1.647486750855222e-61,\n",
       "          '621': 1.3179894006841777e-61,\n",
       "          '622': 1.0543915205473422e-61,\n",
       "          '623': 8.435132164378739e-62,\n",
       "          '624': 6.748105731502991e-62,\n",
       "          '625': 5.398484585202393e-62,\n",
       "          '626': 4.318787668161914e-62,\n",
       "          '627': 3.4550301345295324e-62,\n",
       "          '628': 2.764024107623626e-62,\n",
       "          '629': 2.211219286098901e-62,\n",
       "          '630': 1.7689754288791208e-62,\n",
       "          '631': 1.4151803431032966e-62,\n",
       "          '632': 1.1321442744826374e-62,\n",
       "          '633': 9.0571541958611e-63,\n",
       "          '634': 7.24572335668888e-63,\n",
       "          '635': 5.796578685351104e-63,\n",
       "          '636': 4.637262948280884e-63,\n",
       "          '637': 3.709810358624707e-63,\n",
       "          '638': 0.017592186044416015,\n",
       "          '639': 2.3742786295198129e-63,\n",
       "          '640': 1.8994229036158503e-63,\n",
       "          '641': 1.5195383228926803e-63,\n",
       "          '642': 1.2156306583141444e-63,\n",
       "          '643': 9.725045266513156e-64,\n",
       "          '644': 7.780036213210525e-64,\n",
       "          '645': 6.224028970568421e-64,\n",
       "          '646': 4.979223176454737e-64,\n",
       "          '647': 3.983378541163789e-64,\n",
       "          '648': 3.186702832931032e-64,\n",
       "          '649': 2.5493622663448257e-64,\n",
       "          '650': 2.0394898130758603e-64,\n",
       "          '651': 1.6315918504606886e-64,\n",
       "          '652': 1.305273480368551e-64,\n",
       "          '653': 1.0442187842948408e-64,\n",
       "          '654': 8.353750274358727e-65,\n",
       "          '655': 6.683000219486982e-65,\n",
       "          '656': 5.3464001755895855e-65,\n",
       "          '657': 4.277120140471669e-65,\n",
       "          '658': 3.4216961123773353e-65,\n",
       "          '659': 2.7373568899018683e-65,\n",
       "          '660': 2.1898855119214948e-65,\n",
       "          '661': 1.7519084095371958e-65,\n",
       "          '662': 1.4015267276297568e-65,\n",
       "          '663': 1.1212213821038056e-65,\n",
       "          '664': 8.969771056830445e-66,\n",
       "          '665': 7.175816845464356e-66,\n",
       "          '666': 5.740653476371485e-66,\n",
       "          '667': 4.5925227810971884e-66,\n",
       "          '668': 3.674018224877751e-66,\n",
       "          '669': 2.939214579902201e-66,\n",
       "          '670': 2.351371663921761e-66,\n",
       "          '671': 1.8810973311374088e-66,\n",
       "          '672': 1.504877864909927e-66,\n",
       "          '673': 1.2039022919279417e-66,\n",
       "          '674': 9.631218335423535e-67,\n",
       "          '675': 7.704974668338828e-67,\n",
       "          '676': 6.163979734671063e-67,\n",
       "          '677': 4.931183787736851e-67,\n",
       "          '678': 3.944947030189481e-67,\n",
       "          '679': 3.155957624151584e-67,\n",
       "          '680': 2.5247660993212682e-67,\n",
       "          '681': 2.0198128794570146e-67,\n",
       "          '682': 1.6158503035656116e-67,\n",
       "          '683': 1.2926802428524893e-67,\n",
       "          '684': 1.0341441942819915e-67,\n",
       "          '685': 8.273153554255932e-68,\n",
       "          '686': 6.618522843404746e-68,\n",
       "          '687': 5.294818274723798e-68,\n",
       "          '688': 4.235854619779038e-68,\n",
       "          '689': 3.3886836958232306e-68,\n",
       "          '690': 2.710946956658585e-68,\n",
       "          '691': 2.168757565326868e-68,\n",
       "          '692': 1.7350060522614944e-68,\n",
       "          '693': 1.3880048418091956e-68,\n",
       "          '694': 1.1104038734473565e-68,\n",
       "          '695': 8.883230987578853e-69,\n",
       "          '696': 7.106584790063083e-69,\n",
       "          '697': 5.685267832050466e-69,\n",
       "          '698': 4.5482142656403734e-69,\n",
       "          '699': 3.6385714125122994e-69,\n",
       "          '700': 2.9108571300098395e-69,\n",
       "          '701': 2.3286857040078716e-69,\n",
       "          '702': 1.8629485632062975e-69,\n",
       "          '703': 1.490358850565038e-69,\n",
       "          '704': 1.1922870804520306e-69,\n",
       "          '705': 9.538296643616245e-70,\n",
       "          '706': 7.630637314892997e-70,\n",
       "          '707': 6.104509851914396e-70,\n",
       "          '708': 4.883607881531519e-70,\n",
       "          '709': 3.906886305225215e-70,\n",
       "          '710': 3.1255090441801716e-70,\n",
       "          '711': 2.5004072353441373e-70,\n",
       "          '712': 2.00032578827531e-70,\n",
       "          '713': 1.6002606306202483e-70,\n",
       "          '714': 1.2802085044961986e-70,\n",
       "          '715': 1.0241668035969589e-70,\n",
       "          '716': 8.193334428775673e-71,\n",
       "          '717': 6.554667543020538e-71,\n",
       "          '718': 5.243734034416431e-71,\n",
       "          '719': 4.194987227533146e-71,\n",
       "          '720': 3.355989782026516e-71,\n",
       "          '721': 2.684791825621213e-71,\n",
       "          '722': 2.1478334604969705e-71,\n",
       "          '723': 1.7182667683975764e-71,\n",
       "          '724': 1.3746134147180613e-71,\n",
       "          '725': 1.099690731774449e-71,\n",
       "          '726': 8.797525854195593e-72,\n",
       "          '727': 7.038020683356475e-72,\n",
       "          '728': 5.63041654668518e-72,\n",
       "          '729': 4.504333237348145e-72,\n",
       "          '730': 3.603466589878516e-72,\n",
       "          '731': 2.882773271902813e-72,\n",
       "          '732': 2.3062186175222505e-72,\n",
       "          '733': 1.8449748940178004e-72,\n",
       "          '734': 1.4759799152142404e-72,\n",
       "          '735': 1.1807839321713924e-72,\n",
       "          '736': 9.44627145737114e-73,\n",
       "          '737': 7.557017165896913e-73,\n",
       "          '738': 6.04561373271753e-73,\n",
       "          '739': 4.8364909861740246e-73,\n",
       "          '740': 3.8691927889392197e-73,\n",
       "          '741': 3.095354231151376e-73,\n",
       "          '742': 2.4762833849211007e-73,\n",
       "          '743': 1.981026707936881e-73,\n",
       "          '744': 1.5848213663495046e-73,\n",
       "          '745': 1.2678570930796038e-73,\n",
       "          '746': 1.0142856744636831e-73,\n",
       "          '747': 8.114285395709465e-74,\n",
       "          '748': 6.491428316567573e-74,\n",
       "          '749': 5.1931426532540586e-74,\n",
       "          '750': 4.154514122603247e-74,\n",
       "          '751': 3.323611298082598e-74,\n",
       "          '752': 2.6588890384660785e-74,\n",
       "          '753': 2.127111230772863e-74,\n",
       "          '754': 1.7016889846182903e-74,\n",
       "          '755': 1.3613511876946325e-74,\n",
       "          '756': 1.089080950155706e-74,\n",
       "          '757': 8.712647601245649e-75,\n",
       "          '758': 6.97011808099652e-75,\n",
       "          '759': 5.576094464797216e-75,\n",
       "          '760': 4.460875571837773e-75,\n",
       "          '761': 3.568700457470218e-75,\n",
       "          '762': 2.854960365976175e-75,\n",
       "          '763': 2.28396829278094e-75,\n",
       "          '764': 1.8271746342247524e-75,\n",
       "          '765': 1.4617397073798018e-75,\n",
       "          '766': 1.1693917659038415e-75,\n",
       "          '767': 9.355134127230732e-76,\n",
       "          '768': 0.014073748835532814,\n",
       "          '769': 5.987285841427669e-76,\n",
       "          '770': 4.7898286731421356e-76,\n",
       "          '771': 3.8318629385137085e-76,\n",
       "          '772': 3.065490350810967e-76,\n",
       "          '773': 2.452392280648774e-76,\n",
       "          '774': 1.9619138245190194e-76,\n",
       "          '775': 1.5695310596152156e-76,\n",
       "          '776': 1.2556248476921725e-76,\n",
       "          '777': 1.0044998781537381e-76,\n",
       "          '778': 8.035999025229905e-77,\n",
       "          '779': 6.428799220183925e-77,\n",
       "          '780': 5.143039376147139e-77,\n",
       "          '781': 4.114431500917712e-77,\n",
       "          '782': 3.29154520073417e-77,\n",
       "          '783': 2.6332361605873357e-77,\n",
       "          '784': 2.106588928469869e-77,\n",
       "          '785': 1.6852711427758952e-77,\n",
       "          '786': 1.3482169142207163e-77,\n",
       "          '787': 1.0785735313765731e-77,\n",
       "          '788': 8.628588251012584e-78,\n",
       "          '789': 6.902870600810068e-78,\n",
       "          '790': 5.522296480648055e-78,\n",
       "          '791': 4.417837184518444e-78,\n",
       "          '792': 3.5342697476147556e-78,\n",
       "          '793': 2.8274157980918045e-78,\n",
       "          '794': 2.261932638473444e-78,\n",
       "          '795': 1.8095461107787552e-78,\n",
       "          '796': 1.4476368886230042e-78,\n",
       "          '797': 1.1581095108984033e-78,\n",
       "          '798': 9.264876087187226e-79,\n",
       "          '799': 7.411900869749783e-79,\n",
       "          '800': 5.929520695799826e-79,\n",
       "          '801': 4.7436165566398616e-79,\n",
       "          '802': 3.7948932453118896e-79,\n",
       "          '803': 3.0359145962495115e-79,\n",
       "          '804': 2.4287316769996093e-79,\n",
       "          '805': 1.9429853415996875e-79,\n",
       "          '806': 1.55438827327975e-79,\n",
       "          '807': 1.2435106186238002e-79,\n",
       "          '808': 9.948084948990402e-80,\n",
       "          '809': 7.958467959192322e-80,\n",
       "          '810': 6.366774367353858e-80,\n",
       "          '811': 5.093419493883087e-80,\n",
       "          '812': 4.07473559510647e-80,\n",
       "          '813': 3.2597884760851762e-80,\n",
       "          '814': 2.607830780868141e-80,\n",
       "          '815': 2.086264624694513e-80,\n",
       "          '816': 1.6690116997556103e-80,\n",
       "          '817': 1.3352093598044883e-80,\n",
       "          '818': 1.0681674878435909e-80,\n",
       "          '819': 0.021990232555520017,\n",
       "          '820': 6.836271922198982e-81,\n",
       "          '821': 5.469017537759186e-81,\n",
       "          '822': 4.375214030207349e-81,\n",
       "          '823': 3.5001712241658794e-81,\n",
       "          '824': 2.8001369793327035e-81,\n",
       "          '825': 2.240109583466163e-81,\n",
       "          '826': 1.7920876667729305e-81,\n",
       "          '827': 1.4336701334183446e-81,\n",
       "          '828': 1.1469361067346755e-81,\n",
       "          '829': 9.175488853877407e-82,\n",
       "          '830': 7.340391083101925e-82,\n",
       "          '831': 5.87231286648154e-82,\n",
       "          '832': 4.697850293185232e-82,\n",
       "          '833': 3.758280234548186e-82,\n",
       "          '834': 3.006624187638549e-82,\n",
       "          '835': 2.4052993501108394e-82,\n",
       "          '836': 1.9242394800886717e-82,\n",
       "          '837': 1.5393915840709372e-82,\n",
       "          '838': 1.2315132672567498e-82,\n",
       "          '839': 9.852106138054e-83,\n",
       "          '840': 7.8816849104432e-83,\n",
       "          '841': 6.30534792835456e-83,\n",
       "          '842': 5.044278342683649e-83,\n",
       "          '843': 4.0354226741469194e-83,\n",
       "          '844': 3.2283381393175357e-83,\n",
       "          '845': 2.5826705114540285e-83,\n",
       "          '846': 2.066136409163223e-83,\n",
       "          '847': 1.6529091273305787e-83,\n",
       "          '848': 1.322327301864463e-83,\n",
       "          '849': 1.0578618414915705e-83,\n",
       "          '850': 8.462894731932563e-84,\n",
       "          '851': 6.770315785546051e-84,\n",
       "          '852': 5.416252628436842e-84,\n",
       "          '853': 4.333002102749473e-84,\n",
       "          '854': 3.4664016821995786e-84,\n",
       "          '855': 2.773121345759663e-84,\n",
       "          '856': 2.2184970766077307e-84,\n",
       "          '857': 1.7747976612861847e-84,\n",
       "          '858': 1.419838129028948e-84,\n",
       "          '859': 1.1358705032231583e-84,\n",
       "          '860': 9.086964025785266e-85,\n",
       "          '861': 7.269571220628214e-85,\n",
       "          '862': 5.815656976502571e-85,\n",
       "          '863': 4.652525581202058e-85,\n",
       "          '864': 3.722020464961646e-85,\n",
       "          '865': 2.977616371969317e-85,\n",
       "          '866': 2.3820930975754538e-85,\n",
       "          '867': 1.9056744780603633e-85,\n",
       "          '868': 1.5245395824482905e-85,\n",
       "          '869': 1.2196316659586325e-85,\n",
       "          '870': 9.75705332766906e-86,\n",
       "          '871': 7.805642662135249e-86,\n",
       "          '872': 6.2445141297082e-86,\n",
       "          '873': 4.99561130376656e-86,\n",
       "          '874': 3.9964890430132486e-86,\n",
       "          '875': 3.1971912344105985e-86,\n",
       "          '876': 2.5577529875284793e-86,\n",
       "          '877': 2.0462023900227833e-86,\n",
       "          '878': 1.6369619120182268e-86,\n",
       "          '879': 1.3095695296145815e-86,\n",
       "          '880': 1.0476556236916653e-86,\n",
       "          '881': 8.381244989533322e-87,\n",
       "          '882': 6.704995991626658e-87,\n",
       "          '883': 5.363996793301327e-87,\n",
       "          '884': 4.291197434641062e-87,\n",
       "          '885': 3.4329579477128495e-87,\n",
       "          '886': 2.74636635817028e-87,\n",
       "          '887': 2.197093086536224e-87,\n",
       "          '888': 1.7576744692289793e-87,\n",
       "          '889': 1.4061395753831835e-87,\n",
       "          '890': 1.1249116603065469e-87,\n",
       "          '891': 8.999293282452375e-88,\n",
       "          '892': 7.199434625961901e-88,\n",
       "          '893': 5.759547700769522e-88,\n",
       "          '894': 4.6076381606156166e-88,\n",
       "          '895': 3.686110528492494e-88,\n",
       "          '896': 2.9488884227939953e-88,\n",
       "          '897': 2.3591107382351964e-88,\n",
       "          '898': 1.8872885905881573e-88,\n",
       "          '899': 1.509830872470526e-88,\n",
       "          '900': 1.2078646979764207e-88,\n",
       "          '901': 9.662917583811368e-89,\n",
       "          '902': 7.730334067049094e-89,\n",
       "          '903': 6.184267253639275e-89,\n",
       "          '904': 4.947413802911421e-89,\n",
       "          '905': 3.9579310423291366e-89,\n",
       "          '906': 3.166344833863309e-89,\n",
       "          '907': 2.5330758670906475e-89,\n",
       "          '908': 2.0264606936725186e-89,\n",
       "          '909': 1.6211685549380146e-89,\n",
       "          '910': 1.2969348439504118e-89,\n",
       "          '911': 1.0375478751603295e-89,\n",
       "          '912': 8.300383001282637e-90,\n",
       "          '913': 6.64030640102611e-90,\n",
       "          '914': 5.3122451208208885e-90,\n",
       "          '915': 4.249796096656711e-90,\n",
       "          '916': 3.399836877325369e-90,\n",
       "          '917': 2.719869501860295e-90,\n",
       "          '918': 2.1758956014882362e-90,\n",
       "          '919': 1.7407164811905891e-90,\n",
       "          '920': 1.3925731849524714e-90,\n",
       "          '921': 1.1140585479619772e-90,\n",
       "          '922': 8.912468383695819e-91,\n",
       "          '923': 7.129974706956654e-91,\n",
       "          '924': 5.703979765565324e-91,\n",
       "          '925': 4.5631838124522594e-91,\n",
       "          '926': 3.650547049961808e-91,\n",
       "          '927': 2.9204376399694465e-91,\n",
       "          '928': 2.3363501119755573e-91,\n",
       "          '929': 1.869080089580446e-91,\n",
       "          '930': 1.4952640716643567e-91,\n",
       "          '931': 1.1962112573314854e-91,\n",
       "          '932': 9.569690058651885e-92,\n",
       "          '933': 7.655752046921509e-92,\n",
       "          '934': 6.124601637537206e-92,\n",
       "          '935': 4.8996813100297654e-92,\n",
       "          '936': 3.9197450480238123e-92,\n",
       "          '937': 3.135796038419051e-92,\n",
       "          '938': 2.5086368307352403e-92,\n",
       "          '939': 2.0069094645881923e-92,\n",
       "          '940': 1.605527571670554e-92,\n",
       "          '941': 1.2844220573364434e-92,\n",
       "          '942': 1.0275376458691548e-92,\n",
       "          '943': 8.22030116695324e-93,\n",
       "          '944': 6.57624093356259e-93,\n",
       "          '945': 5.260992746850073e-93,\n",
       "          '946': 4.208794197480059e-93,\n",
       "          '947': 3.367035357984047e-93,\n",
       "          '948': 2.693628286387238e-93,\n",
       "          '949': 2.1549026291097905e-93,\n",
       "          '950': 1.7239221032878325e-93,\n",
       "          '951': 1.379137682630266e-93,\n",
       "          '952': 1.103310146104213e-93,\n",
       "          '953': 8.826481168833704e-94,\n",
       "          '954': 7.061184935066963e-94,\n",
       "          '955': 5.64894794805357e-94,\n",
       "          '956': 4.5191583584428565e-94,\n",
       "          '957': 3.6153266867542856e-94,\n",
       "          '958': 2.8922613494034285e-94,\n",
       "          '959': 2.3138090795227428e-94,\n",
       "          '960': 1.8510472636181946e-94,\n",
       "          '961': 1.4808378108945558e-94,\n",
       "          '962': 1.1846702487156447e-94,\n",
       "          '963': 9.477361989725157e-95,\n",
       "          '964': 7.581889591780127e-95,\n",
       "          '965': 6.065511673424102e-95,\n",
       "          '966': 4.8524093387392815e-95,\n",
       "          '967': 3.8819274709914254e-95,\n",
       "          '968': 3.10554197679314e-95,\n",
       "          '969': 2.484433581434513e-95,\n",
       "          '970': 1.98754686514761e-95,\n",
       "          '971': 1.590037492118088e-95,\n",
       "          '972': 1.2720299936944708e-95,\n",
       "          '973': 1.0176239949555766e-95,\n",
       "          '974': 8.140991959644613e-96,\n",
       "          '975': 6.512793567715691e-96,\n",
       "          '976': 5.210234854172553e-96,\n",
       "          '977': 4.168187883338043e-96,\n",
       "          '978': 3.3345503066704344e-96,\n",
       "          '979': 2.667640245336348e-96,\n",
       "          '980': 2.134112196269078e-96,\n",
       "          '981': 1.7072897570152628e-96,\n",
       "          '982': 1.3658318056122103e-96,\n",
       "          '983': 1.0926654444897682e-96,\n",
       "          '984': 8.741323555918146e-97,\n",
       "          '985': 6.993058844734518e-97,\n",
       "          '986': 5.594447075787614e-97,\n",
       "          '987': 4.4755576606300916e-97,\n",
       "          '988': 3.5804461285040735e-97,\n",
       "          '989': 2.864356902803259e-97,\n",
       "          '990': 2.2914855222426073e-97,\n",
       "          '991': 1.833188417794086e-97,\n",
       "          '992': 1.466550734235269e-97,\n",
       "          '993': 1.173240587388215e-97,\n",
       "          '994': 9.38592469910572e-98,\n",
       "          '995': 7.508739759284578e-98,\n",
       "          '996': 6.006991807427661e-98,\n",
       "          '997': 4.8055934459421304e-98,\n",
       "          '998': 3.844474756753705e-98,\n",
       "          '999': 3.0755798054029635e-98,\n",
       "          '000': 1.3312000000000004,\n",
       "          '001': 1.968371075457897e-98,\n",
       "          '002': 1.5746968603663177e-98,\n",
       "          '003': 1.2597574882930542e-98,\n",
       "          '004': 1.0078059906344435e-98,\n",
       "          '005': 8.062447925075547e-99,\n",
       "          '006': 6.4499583400604385e-99,\n",
       "          '007': 5.1599666720483515e-99,\n",
       "          '008': 4.1279733376386815e-99,\n",
       "          '009': 3.3023786701109454e-99,\n",
       "          '010': 2.641902936088756e-99,\n",
       "          '011': 2.113522348871005e-99,\n",
       "          '012': 1.6908178790968041e-99,\n",
       "          '013': 1.3526543032774434e-99,\n",
       "          '014': 1.0821234426219547e-99,\n",
       "          '015': 8.65698754097564e-100,\n",
       "          '016': 6.925590032780512e-100,\n",
       "          '017': 5.54047202622441e-100,\n",
       "          '018': 4.4323776209795274e-100,\n",
       "          '019': 3.545902096783623e-100,\n",
       "          '020': 2.836721677426898e-100,\n",
       "          '021': 2.2693773419415186e-100,\n",
       "          '022': 1.815501873553215e-100,\n",
       "          '023': 1.452401498842572e-100,\n",
       "          '024': 0.042949672960000025,\n",
       "          '025': 9.295369592592463e-101,\n",
       "          '026': 7.43629567407397e-101,\n",
       "          '027': 5.949036539259177e-101,\n",
       "          '028': 4.7592292314073414e-101,\n",
       "          '029': 3.8073833851258734e-101,\n",
       "          '030': 3.045906708100699e-101,\n",
       "          '031': 2.436725366480559e-101,\n",
       "          '032': 1.9493802931844475e-101,\n",
       "          '033': 1.559504234547558e-101,\n",
       "          '034': 1.2476033876380465e-101,\n",
       "          '035': 9.980827101104374e-102,\n",
       "          '036': 7.984661680883499e-102,\n",
       "          '037': 6.3877293447067994e-102,\n",
       "          '038': 5.11018347576544e-102,\n",
       "          '039': 4.088146780612352e-102,\n",
       "          '040': 3.270517424489882e-102,\n",
       "          '041': 2.6164139395919056e-102,\n",
       "          '042': 2.0931311516735247e-102,\n",
       "          '043': 1.6745049213388198e-102,\n",
       "          '044': 1.339603937071056e-102,\n",
       "          '045': 1.0716831496568449e-102,\n",
       "          '046': 8.573465197254758e-103,\n",
       "          '047': 6.858772157803807e-103,\n",
       "          '048': 0.03435973836800002,\n",
       "          '049': 4.389614180994437e-103,\n",
       "          '050': 3.51169134479555e-103,\n",
       "          '051': 2.80935307583644e-103,\n",
       "          '052': 2.247482460669152e-103,\n",
       "          '053': 1.797985968535322e-103,\n",
       "          '054': 1.4383887748282575e-103,\n",
       "          '055': 1.150711019862606e-103,\n",
       "          '056': 9.20568815890085e-104,\n",
       "          '057': 7.364550527120681e-104,\n",
       "          '058': 5.891640421696543e-104,\n",
       "          '059': 4.713312337357236e-104,\n",
       "          '060': 3.770649869885789e-104,\n",
       "          '061': 3.016519895908631e-104,\n",
       "          '062': 2.413215916726905e-104,\n",
       "          '063': 1.9305727333815244e-104,\n",
       "          '064': 1.5444581867052194e-104,\n",
       "          '065': 1.2355665493641756e-104,\n",
       "          '066': 9.884532394913406e-105,\n",
       "          '067': 7.907625915930724e-105,\n",
       "          '068': 6.32610073274458e-105,\n",
       "          '069': 5.060880586195665e-105,\n",
       "          '070': 4.048704468956532e-105,\n",
       "          '071': 3.2389635751652254e-105,\n",
       "          '072': 2.5911708601321804e-105,\n",
       "          '073': 2.0729366881057446e-105,\n",
       "          '074': 1.6583493504845958e-105,\n",
       "          '075': 1.3266794803876767e-105,\n",
       "          '076': 1.0613435843101415e-105,\n",
       "          '077': 8.490748674481132e-106,\n",
       "          '078': 6.792598939584906e-106,\n",
       "          '079': 5.434079151667925e-106,\n",
       "          '080': 4.34726332133434e-106,\n",
       "          '081': 3.477810657067472e-106,\n",
       "          '082': 2.782248525653978e-106,\n",
       "          '083': 2.225798820523183e-106,\n",
       "          '084': 1.780639056418546e-106,\n",
       "          '085': 1.424511245134837e-106,\n",
       "          '086': 1.1396089961078696e-106,\n",
       "          '087': 9.116871968862957e-107,\n",
       "          '088': 7.293497575090367e-107,\n",
       "          '089': 5.834798060072293e-107,\n",
       "          '090': 4.667838448057836e-107,\n",
       "          '091': 3.7342707584462684e-107,\n",
       "          '092': 2.987416606757015e-107,\n",
       "          '093': 2.389933285405612e-107,\n",
       "          '094': 1.91194662832449e-107,\n",
       "          '095': 1.529557302659592e-107,\n",
       "          '096': 0.027487790694400018,\n",
       "          '097': 9.789166737021389e-108,\n",
       "          '098': 7.831333389617111e-108,\n",
       "          '099': 6.2650667116936895e-108})]"
      ]
     },
     "execution_count": 268,
     "metadata": {},
     "output_type": "execute_result"
    }
   ],
   "source": [
    "number_ngrams = generate_numbers_ngrams()\n",
    "number_ngrams"
   ]
  },
  {
   "cell_type": "code",
   "execution_count": 270,
   "id": "31a80e30",
   "metadata": {},
   "outputs": [
    {
     "data": {
      "application/vnd.jupyter.widget-view+json": {
       "model_id": "c787ba9f9da247838426753dea6a784e",
       "version_major": 2,
       "version_minor": 0
      },
      "text/plain": [
       "  0%|          | 0/2 [00:00<?, ?it/s]"
      ]
     },
     "metadata": {},
     "output_type": "display_data"
    },
    {
     "data": {
      "application/vnd.jupyter.widget-view+json": {
       "model_id": "aa1c52f01aa94040a64a8466b53ffc40",
       "version_major": 2,
       "version_minor": 0
      },
      "text/plain": [
       "Filtering 2-tuples:   0%|          | 0/100 [00:00<?, ?it/s]"
      ]
     },
     "metadata": {},
     "output_type": "display_data"
    },
    {
     "name": "stdout",
     "output_type": "stream",
     "text": [
      "Keeping 6 (6%) 2-grams\n"
     ]
    },
    {
     "data": {
      "application/vnd.jupyter.widget-view+json": {
       "model_id": "b22ce317841046bd962a57402f86634f",
       "version_major": 2,
       "version_minor": 0
      },
      "text/plain": [
       "Collecting (1..1)-grams:   0%|          | 0/6 [00:00<?, ?it/s]"
      ]
     },
     "metadata": {},
     "output_type": "display_data"
    },
    {
     "data": {
      "application/vnd.jupyter.widget-view+json": {
       "model_id": "63c2b798142e42d98fb2157712feb2eb",
       "version_major": 2,
       "version_minor": 0
      },
      "text/plain": [
       "Filtering 3-tuples:   0%|          | 0/1000 [00:00<?, ?it/s]"
      ]
     },
     "metadata": {},
     "output_type": "display_data"
    },
    {
     "name": "stdout",
     "output_type": "stream",
     "text": [
      "Keeping 12 (1%) 3-grams\n"
     ]
    },
    {
     "data": {
      "application/vnd.jupyter.widget-view+json": {
       "model_id": "352d82728e154743a32d7b3cfe19b936",
       "version_major": 2,
       "version_minor": 0
      },
      "text/plain": [
       "Collecting (1..2)-grams:   0%|          | 0/12 [00:00<?, ?it/s]"
      ]
     },
     "metadata": {},
     "output_type": "display_data"
    },
    {
     "name": "stdout",
     "output_type": "stream",
     "text": [
      "'2': 3.0%\n",
      "'4': 2.6%\n",
      "'8': 1.5%\n",
      "'3': 1.0%\n",
      "'5': 0.6%\n",
      "'6': 0.5%\n",
      "'1': 0.5%\n",
      "'7': 0.5%\n",
      "'10': 12.9%\n",
      "'16': 2.8%\n",
      "'32': 2.2%\n",
      "'64': 1.6%\n",
      "'28': 0.0%\n",
      "'100': 45.3%\n",
      "'000': 38.6%\n",
      "'128': 2.4%\n",
      "'256': 1.9%\n",
      "'512': 1.6%\n",
      "'024': 1.2%\n",
      "'204': 1.0%\n",
      "'048': 1.0%\n",
      "'409': 0.8%\n",
      "'096': 0.8%\n",
      "'192': 0.6%\n",
      "'819': 0.6%\n"
     ]
    }
   ],
   "source": [
    "for ngrams, total in filter_ngrams(number_ngrams, 0.01):\n",
    "    for ngram, count in ngrams.most_common():\n",
    "        print(f\"{ngram!r}: {100 * count / total:.1f}%\")"
   ]
  },
  {
   "cell_type": "markdown",
   "id": "central-narrative",
   "metadata": {},
   "source": [
    "# Analysing the data"
   ]
  },
  {
   "cell_type": "code",
   "execution_count": 22,
   "id": "smaller-dating",
   "metadata": {},
   "outputs": [],
   "source": [
    "def b(x):\n",
    "    try:\n",
    "        mapped = map(chr, x)\n",
    "    except TypeError:\n",
    "        return repr(chr(x))\n",
    "    else:\n",
    "        return repr(\"\".join(mapped))"
   ]
  },
  {
   "cell_type": "code",
   "execution_count": 23,
   "id": "9ac5c0fc",
   "metadata": {},
   "outputs": [],
   "source": [
    "def minmax(iterable, key=lambda x: x):\n",
    "    it =  iter(iterable)\n",
    "    try:\n",
    "        min_v = next(it)\n",
    "    except StopIteration:\n",
    "        return None, None\n",
    "    max_v = min_v\n",
    "    min_k = key(min_v)\n",
    "    max_k = min_k\n",
    "    \n",
    "    for v in it:\n",
    "        k = key(v)\n",
    "        if k < min_k:\n",
    "            min_v = v\n",
    "            min_k = k\n",
    "        if k > max_k:\n",
    "            max_v = v\n",
    "            max_k = k\n",
    "    \n",
    "    return min_v, max_v"
   ]
  },
  {
   "cell_type": "markdown",
   "id": "8c53a561",
   "metadata": {},
   "source": [
    "## Variable length Huffman coding"
   ]
  },
  {
   "cell_type": "code",
   "execution_count": 27,
   "id": "hydraulic-theater",
   "metadata": {},
   "outputs": [],
   "source": [
    "def mask_match_length(s, mask):\n",
    "    for mask_length, limited_mask in mask.items():\n",
    "        if tuple(s[:mask_length]) in limited_mask:\n",
    "            #print(s, \"masked by\", s[:mask_length])\n",
    "            return mask_length\n",
    "    return None\n",
    "\n",
    "def n_tuples_masked(data, n, mask):\n",
    "    ret = collections.Counter()\n",
    "    for s, count in data.items():\n",
    "        i = 0\n",
    "        i_limit = len(s) - n + 1\n",
    "        while i < i_limit:\n",
    "            mask_match = mask_match_length(s[i:], mask)\n",
    "            if mask_match is not None:\n",
    "                i += mask_match\n",
    "            else:\n",
    "                ret[tuple(s[i:i + n])] += count\n",
    "                i += 1\n",
    "    return ret"
   ]
  },
  {
   "cell_type": "code",
   "execution_count": 28,
   "id": "4062244f",
   "metadata": {},
   "outputs": [],
   "source": [
    "def prefixes(x):\n",
    "    \"\"\"Return a set with all prefixes of the string (or tuple or something similar), not including empty string and x itself\"\"\"\n",
    "    return set(x[:i] for i in range(1, len(x)))"
   ]
  },
  {
   "cell_type": "code",
   "execution_count": 32,
   "id": "4053a5ca",
   "metadata": {
    "scrolled": true
   },
   "outputs": [],
   "source": [
    "def generate_symbols(data, max_length, max_length_count, require_full_trie):\n",
    "    \"\"\"Generate symbol tuples up to max_length long with their corresponding probabilities based on data (in a counter).\n",
    "    This takes into account that at each point of the input we try to encode the next bytes using the longest\n",
    "    available symbol first.\n",
    "    \n",
    "    Also we force all prefixes of longer tuples to be included in the output to avoid empty spaces in the encoding trie.\n",
    "    \"\"\"\n",
    "    symbols = {}\n",
    "    mask_symbols = {}\n",
    "    required_tuples = set()\n",
    "        \n",
    "    # The loop is unrolled for i == max_length\n",
    "    # and i in range(1, max_length)\n",
    "    \n",
    "    \n",
    "    print(f\"Generating length {max_length} symbols\")\n",
    "    all_tuples = n_tuples(data, max_length)\n",
    "    total_count = sum(all_tuples.values())\n",
    "    local_symbols = {}\n",
    "    for t, count in all_tuples.most_common(max_length_count):\n",
    "        probability = count / total_count\n",
    "        local_symbols[t] = probability\n",
    "        required_tuples |= prefixes(t)\n",
    "        worst_symbols_per_bit = probability * max_length\n",
    "            # TODO: Probabilty does not drive the huffman code length here,\n",
    "            # because we're not considering all tuples...\n",
    "    \n",
    "    symbols.update(local_symbols)\n",
    "    mask_symbols[max_length] = local_symbols\n",
    "    print(f\"    Got {len(local_symbols)} symbols\")\n",
    "    \n",
    "    for i in reversed(range(1, max_length)):\n",
    "        print(f\"Generating length {i} symbols\")\n",
    "        \n",
    "        # Filter the n-tuples of given length to not include instances already covered\n",
    "        # by the longer tuples when using greedy encoding\n",
    "        all_tuples = n_tuples_masked(data, i, mask_symbols)\n",
    "\n",
    "        total_count = sum(all_tuples.values())\n",
    "        local_symbols = {}\n",
    "        \n",
    "        if require_full_trie:\n",
    "            # First insert all tuples required by longer lengths\n",
    "            for t in (all_tuples.keys() & required_tuples):\n",
    "                probability = count / total_count\n",
    "                local_symbols[t] = probability\n",
    "                required_tuples |= prefixes(t)\n",
    "\n",
    "            print(f\"    {len(local_symbols)} symbols required\")\n",
    "        \n",
    "        # Then start inserting from the highest probabilty tuples\n",
    "        heap = [(-count, t) for t, count in all_tuples.items()]\n",
    "        heapq.heapify(heap)\n",
    "        while True:\n",
    "            minus_count, t = heapq.heappop(heap)\n",
    "            count = -minus_count\n",
    "            probability = count / total_count\n",
    "            symbols_per_bit = probability * i\n",
    "            if symbols_per_bit < worst_symbols_per_bit:\n",
    "                break\n",
    "            \n",
    "            local_symbols[t] = probability\n",
    "            #required_tuples |= prefixes(t)\n",
    "\n",
    "        symbols.update(local_symbols)\n",
    "        mask_symbols[i] = local_symbols\n",
    "        print(f\"    Got {len(local_symbols)} symbols\")\n",
    "        \n",
    "    return symbols"
   ]
  },
  {
   "cell_type": "code",
   "execution_count": 33,
   "id": "7c606a14",
   "metadata": {},
   "outputs": [],
   "source": [
    "def huffman_tree(symbols):\n",
    "    \"\"\"Build a huffman tree from a dict of symbol: probability. \"\"\"\n",
    "    \n",
    "    heap = [(x[1], True, x[0]) for x in symbols.items()]\n",
    "    # Heap elements look like: probability, leaf flag, (leaf data | children).\n",
    "    heapq.heapify(heap)\n",
    "    \n",
    "    while len(heap) > 1:\n",
    "        first = heapq.heappop(heap)\n",
    "        second = heap[0]\n",
    "        \n",
    "        if first > second:\n",
    "            (first, second) = (second, first)\n",
    "        \n",
    "        new = (first[0] + second[0], False, (first, second))\n",
    "        \n",
    "        heapq.heapreplace(heap, new)\n",
    "        \n",
    "    encoding = {}\n",
    "        \n",
    "    def flatten_tree(element, current_encoding=\"\"):\n",
    "        if element[1]:  # is leaf\n",
    "            encoding[element[2]] = current_encoding\n",
    "        else:\n",
    "            flatten_tree(element[2][0], current_encoding + \"0\")\n",
    "            flatten_tree(element[2][1], current_encoding + \"1\")\n",
    "    \n",
    "    flatten_tree(heap[0])\n",
    "    \n",
    "    return encoding"
   ]
  },
  {
   "cell_type": "code",
   "execution_count": 34,
   "id": "6cf1970a",
   "metadata": {
    "scrolled": true
   },
   "outputs": [
    {
     "name": "stdout",
     "output_type": "stream",
     "text": [
      "Generating length 4 symbols\n"
     ]
    },
    {
     "ename": "TypeError",
     "evalue": "'Counter' object is not callable",
     "output_type": "error",
     "traceback": [
      "\u001b[0;31m---------------------------------------------------------------------------\u001b[0m",
      "\u001b[0;31mTypeError\u001b[0m                                 Traceback (most recent call last)",
      "Input \u001b[0;32mIn [34]\u001b[0m, in \u001b[0;36m<module>\u001b[0;34m\u001b[0m\n\u001b[0;32m----> 1\u001b[0m symbols \u001b[38;5;241m=\u001b[39m \u001b[43mgenerate_symbols\u001b[49m\u001b[43m(\u001b[49m\u001b[43mdata\u001b[49m\u001b[43m,\u001b[49m\u001b[43m \u001b[49m\u001b[43mmax_length\u001b[49m\u001b[38;5;241;43m=\u001b[39;49m\u001b[38;5;241;43m4\u001b[39;49m\u001b[43m,\u001b[49m\u001b[43m \u001b[49m\u001b[43mmax_length_count\u001b[49m\u001b[38;5;241;43m=\u001b[39;49m\u001b[38;5;241;43m5\u001b[39;49m\u001b[43m,\u001b[49m\u001b[43m \u001b[49m\u001b[43mrequire_full_trie\u001b[49m\u001b[38;5;241;43m=\u001b[39;49m\u001b[38;5;28;43;01mFalse\u001b[39;49;00m\u001b[43m)\u001b[49m\n",
      "Input \u001b[0;32mIn [32]\u001b[0m, in \u001b[0;36mgenerate_symbols\u001b[0;34m(data, max_length, max_length_count, require_full_trie)\u001b[0m\n\u001b[1;32m     12\u001b[0m \u001b[38;5;66;03m# The loop is unrolled for i == max_length\u001b[39;00m\n\u001b[1;32m     13\u001b[0m \u001b[38;5;66;03m# and i in range(1, max_length)\u001b[39;00m\n\u001b[1;32m     16\u001b[0m \u001b[38;5;28mprint\u001b[39m(\u001b[38;5;124mf\u001b[39m\u001b[38;5;124m\"\u001b[39m\u001b[38;5;124mGenerating length \u001b[39m\u001b[38;5;132;01m{\u001b[39;00mmax_length\u001b[38;5;132;01m}\u001b[39;00m\u001b[38;5;124m symbols\u001b[39m\u001b[38;5;124m\"\u001b[39m)\n\u001b[0;32m---> 17\u001b[0m all_tuples \u001b[38;5;241m=\u001b[39m \u001b[43mngrams\u001b[49m\u001b[43m(\u001b[49m\u001b[43mdata\u001b[49m\u001b[43m,\u001b[49m\u001b[43m \u001b[49m\u001b[43mmax_length\u001b[49m\u001b[43m)\u001b[49m\n\u001b[1;32m     18\u001b[0m total_count \u001b[38;5;241m=\u001b[39m \u001b[38;5;28msum\u001b[39m(all_tuples\u001b[38;5;241m.\u001b[39mvalues())\n\u001b[1;32m     19\u001b[0m local_symbols \u001b[38;5;241m=\u001b[39m {}\n",
      "\u001b[0;31mTypeError\u001b[0m: 'Counter' object is not callable"
     ]
    }
   ],
   "source": [
    "symbols = generate_symbols(data, max_length=4, max_length_count=5, require_full_trie=False)\n",
    "#symbols = generate_symbols(data, max_length=3, max_length_count=30, require_full_trie=False)\n",
    "#symbols = generate_symbols(data, max_length=3, max_length_count=50, require_full_trie=True)"
   ]
  },
  {
   "cell_type": "code",
   "execution_count": null,
   "id": "fa2eee8c",
   "metadata": {},
   "outputs": [],
   "source": [
    "def pruned_huffman_tree(symbols, max_bits, require_full_trie, max_items=float(\"inf\")):\n",
    "    all_symbols = symbols\n",
    "    symbols = all_symbols.copy()\n",
    "    \n",
    "    while True:\n",
    "        encoding = huffman_tree(symbols)\n",
    "                \n",
    "        max_bits_used = max(len(x) for x in encoding.values())\n",
    "        \n",
    "        required_symbols = set()\n",
    "        if require_full_trie:\n",
    "            for symbol in symbols:\n",
    "                required_symbols |= prefixes(symbol)\n",
    "            \n",
    "        def expected_shortening(x):\n",
    "            \"\"\"Return expected decrease of size of the output if we include this item\"\"\"\n",
    "            return (8 * len(x) - len(encoding[x])) * symbols[x]\n",
    "        \n",
    "        def victim_key(x):\n",
    "            \"\"\"Use probability of the symbol as a secondary key\"\"\"\n",
    "            return (expected_shortening(x), symbols[x]) \n",
    "\n",
    "        worst_sym, best_sym = minmax(encoding.keys(), key=victim_key)\n",
    "        \n",
    "        def format_symbol(x):\n",
    "            return f\"{b(x)} ({len(encoding[x])}b, p = {100 * symbols[x]:.2f}%, CR = {100 * len(encoding[x]) / (8 * len(x)):.2f}%, expected shortening = {expected_shortening(x):.3f}b)\"\n",
    "        \n",
    "        print(f\"Encoded {len(encoding)} symbols, max code length {max_bits_used}, {len(required_symbols)} required symbols\")\n",
    "        print(\"  Best symbol\", format_symbol(best_sym))\n",
    "        print(\"  Worst symbol\", format_symbol(worst_sym))\n",
    "        \n",
    "        victim = min(symbols.keys() - required_symbols, key=victim_key)\n",
    "        \n",
    "        if \\\n",
    "            expected_shortening(victim) > 0 and \\\n",
    "            max_bits_used <= max_bits and \\\n",
    "            len(encoding) <= max_items:\n",
    "            return encoding\n",
    "\n",
    "        print(\"Removing symbol\", format_symbol(victim))\n",
    "        \n",
    "        del symbols[victim]"
   ]
  },
  {
   "cell_type": "code",
   "execution_count": null,
   "id": "f26b419b",
   "metadata": {},
   "outputs": [],
   "source": [
    "encoding = pruned_huffman_tree(symbols, 12, require_full_trie=False)\n",
    "#encoding = huffman_tree(symbols)\n",
    "print(len(encoding))\n",
    "for tup, enc in sorted(encoding.items(), key=lambda x: (symbols[x[0]]), reverse=True):\n",
    "    print(f\"{b(tup)} -> {enc} ({len(enc)}b, p = {100 * symbols[tup]:.2f}%, expected_shortening = {symbols[tup] * (8 * len(tup) - len(enc)):.3f}b)\")"
   ]
  },
  {
   "cell_type": "markdown",
   "id": "dee73153",
   "metadata": {},
   "source": [
    "Make sure that the encoding is actually a prefix code:"
   ]
  },
  {
   "cell_type": "code",
   "execution_count": null,
   "id": "d3c9414a",
   "metadata": {},
   "outputs": [],
   "source": [
    "for tup1, enc1 in encoding.items():\n",
    "    for tup2, enc2 in encoding.items():\n",
    "        if tup1 == tup2:\n",
    "            continue\n",
    "        if enc1.startswith(enc2):\n",
    "            print(f\"{b(tup1)} -> {enc1} starts with {b(tup2)} -> {enc2}\")\n",
    "        assert not enc1.startswith(enc2)"
   ]
  },
  {
   "cell_type": "code",
   "execution_count": null,
   "id": "ece29032",
   "metadata": {},
   "outputs": [],
   "source": [
    "encoding_dict = {\"\".join(chr(x) for x in key).encode(\"ascii\"): e for key, e in encoding.items()}\n",
    "encoding_dict_key_length = max(len(key) for key in encoding_dict)"
   ]
  },
  {
   "cell_type": "markdown",
   "id": "97e07e3f",
   "metadata": {},
   "source": [
    "### Encoding using a trie"
   ]
  },
  {
   "cell_type": "code",
   "execution_count": null,
   "id": "af7b53fc",
   "metadata": {},
   "outputs": [],
   "source": [
    "def build_trie(encoding):\n",
    "    trie = {}\n",
    "    for tup, enc in sorted(encoding.items(), key=lambda x: x[0]):\n",
    "        current = trie\n",
    "        for c in tup[:-1]:\n",
    "            current = current.setdefault(c, (None, {}))[1]\n",
    "        if tup[-1] in current:\n",
    "            assert current[tup[-1]][0] is None\n",
    "            current[tup[-1]] = (enc, current[tup[-1]][1])\n",
    "        else:\n",
    "            current[tup[-1]] = (enc, {})\n",
    "    \n",
    "    return trie"
   ]
  },
  {
   "cell_type": "code",
   "execution_count": null,
   "id": "457d9813",
   "metadata": {},
   "outputs": [],
   "source": [
    "def print_trie(trie, indent=\"\"):\n",
    "    for c, (enc, children) in trie.items():\n",
    "        print(f\"{indent}{b(c)}: {enc}\")\n",
    "        print_trie(children, indent + \"  \")"
   ]
  },
  {
   "cell_type": "code",
   "execution_count": null,
   "id": "52c55105",
   "metadata": {
    "scrolled": false
   },
   "outputs": [],
   "source": [
    "trie = build_trie(encoding)\n",
    "print_trie(trie)"
   ]
  },
  {
   "cell_type": "markdown",
   "id": "792ff13e",
   "metadata": {},
   "source": [
    "### Encoding using perfect hashing\n",
    "This uses ideas from gperf (https://www.dre.vanderbilt.edu/~schmidt/PDF/gperf.pdf)."
   ]
  },
  {
   "cell_type": "code",
   "execution_count": 35,
   "id": "6ca49f10",
   "metadata": {},
   "outputs": [],
   "source": [
    "def construct_perfect_hash(encoding):\n",
    "    min_c, max_c = minmax(c for tup in encoding.keys() for c in tup)\n",
    "    \n",
    "    print(\"total key characters\", sum(len(key) for key in encoding.keys()))\n",
    "    \n",
    "    key_lengths = collections.Counter(len(key) for key in encoding.keys())\n",
    "    print(key_lengths)\n",
    "    \n",
    "    print(sum(key_lengths.values()))\n",
    "    \n",
    "    asso_size = max_c - min_c + 2  # + extra item for out of range\n",
    "    print(max_c - min_c)\n",
    "    asso = [0] * asso_size\n",
    "        "
   ]
  },
  {
   "cell_type": "code",
   "execution_count": 36,
   "id": "1791fdd2",
   "metadata": {},
   "outputs": [
    {
     "ename": "NameError",
     "evalue": "name 'encoding' is not defined",
     "output_type": "error",
     "traceback": [
      "\u001b[0;31m---------------------------------------------------------------------------\u001b[0m",
      "\u001b[0;31mNameError\u001b[0m                                 Traceback (most recent call last)",
      "Input \u001b[0;32mIn [36]\u001b[0m, in \u001b[0;36m<module>\u001b[0;34m\u001b[0m\n\u001b[0;32m----> 1\u001b[0m construct_perfect_hash(\u001b[43mencoding\u001b[49m)\n",
      "\u001b[0;31mNameError\u001b[0m: name 'encoding' is not defined"
     ]
    }
   ],
   "source": [
    "construct_perfect_hash(encoding)"
   ]
  },
  {
   "cell_type": "code",
   "execution_count": null,
   "id": "2180d669",
   "metadata": {},
   "outputs": [],
   "source": [
    "72**3"
   ]
  },
  {
   "cell_type": "markdown",
   "id": "spare-plaza",
   "metadata": {},
   "source": [
    "## Some predictor ideas"
   ]
  },
  {
   "cell_type": "code",
   "execution_count": null,
   "id": "805ab24c",
   "metadata": {},
   "outputs": [],
   "source": [
    "def encoded_error_size(e):\n",
    "    \"\"\" Return size in bits of given error encoded using tablog's stream encoder, assuming perfect adaptation \"\"\"\n",
    "    if e == 0:\n",
    "         return 1\n",
    "    else:\n",
    "         return 2 + 1 + math.floor(1 + math.log2(abs(e)))"
   ]
  },
  {
   "cell_type": "code",
   "execution_count": null,
   "id": "e7b8f24a",
   "metadata": {},
   "outputs": [],
   "source": [
    "def encoded_number_size(n):\n",
    "    return 2 * math.floor(math.log2(n + 1)) + 1"
   ]
  },
  {
   "cell_type": "code",
   "execution_count": null,
   "id": "14b87974",
   "metadata": {},
   "outputs": [],
   "source": [
    "def evaluate_predictor(method):\n",
    "    print(f\"Evaluating {method.__name__}\")\n",
    "    strings = 0\n",
    "    log_bits_per_char_sum = 0\n",
    "    log_bits_per_char_unique_sum = 0\n",
    "    for s, count in tqdm(data.items()):\n",
    "        string_bits = method(s)\n",
    "        bits_per_char = string_bits / len(s)\n",
    "        \n",
    "        log_bits_per_char_sum += count * math.log(string_bits / len(s))\n",
    "        log_bits_per_char_unique_sum += math.log(string_bits / len(s))\n",
    "        \n",
    "        strings += count\n",
    "\n",
    "    print(f\"    geometric mean {math.exp(log_bits_per_char_sum / strings):.2f} bits/char\")\n",
    "    print(f\"    geometric mean (unique) {math.exp(log_bits_per_char_unique_sum / len(data)):.2f} bits/char\")"
   ]
  },
  {
   "cell_type": "code",
   "execution_count": null,
   "id": "disabled-marsh",
   "metadata": {},
   "outputs": [],
   "source": [
    "def e_predictor(s):\n",
    "    ord_e = ord(\"e\")\n",
    "    \n",
    "    return \\\n",
    "        encoded_number_size(len(s)) + \\\n",
    "        sum(encoded_error_size(c - ord_e) for c in s)\n",
    "evaluate_predictor(e_predictor)"
   ]
  },
  {
   "cell_type": "code",
   "execution_count": null,
   "id": "italian-supplier",
   "metadata": {},
   "outputs": [],
   "source": [
    "def same_char_predictor(s):\n",
    "    first_prediction = ord(\"e\")\n",
    "    \n",
    "    return \\\n",
    "        encoded_number_size(len(s)) + \\\n",
    "        encoded_error_size(s[0] - first_prediction) + \\\n",
    "        sum(encoded_error_size(c - prev) for c, prev in zip(s[1:], s[:-1]))\n",
    "evaluate_predictor(same_char_predictor)"
   ]
  },
  {
   "cell_type": "code",
   "execution_count": null,
   "id": "southern-apollo",
   "metadata": {},
   "outputs": [],
   "source": [
    "def reflection_predictor(s):\n",
    "    two_c = 215\n",
    "    first_prediction = ord(\"s\")\n",
    "    \n",
    "    return \\\n",
    "        encoded_number_size(len(s)) + \\\n",
    "        encoded_error_size(s[0] - first_prediction) + \\\n",
    "        sum(encoded_error_size(c - (two_c - prev)) for c, prev in zip(s[1:], s[:-1]))\n",
    "evaluate_predictor(reflection_predictor)"
   ]
  },
  {
   "cell_type": "code",
   "execution_count": null,
   "id": "wrapped-niagara",
   "metadata": {},
   "outputs": [],
   "source": [
    "def c_style(s):\n",
    "    return 8 + 8 * len(s)\n",
    "evaluate_predictor(c_style)"
   ]
  },
  {
   "cell_type": "code",
   "execution_count": null,
   "id": "unnecessary-cancer",
   "metadata": {},
   "outputs": [],
   "source": [
    "def small_freq_table(s):\n",
    "    #freq_table = b\"etisarnodlc_puf\"\n",
    "    freq_table = b\"etisarnodlc_pufmbghyvxTwkERICSz\"\n",
    "    \n",
    "    ret = encoded_number_size(len(s))\n",
    "    \n",
    "    for c in s:\n",
    "        try:\n",
    "            index = freq_table.index(c)\n",
    "        except ValueError:\n",
    "            ret += 1 + 8\n",
    "        else:\n",
    "            ret += encoded_number_size(index + 1)\n",
    "            \n",
    "    return ret\n",
    "evaluate_predictor(small_freq_table)"
   ]
  },
  {
   "cell_type": "code",
   "execution_count": null,
   "id": "9d6fe607",
   "metadata": {},
   "outputs": [],
   "source": [
    "def huffman_dict_verb_lengths(s, printing=False):\n",
    "    ret = encoded_number_size(len(s))\n",
    "\n",
    "    verbatim_length = 0\n",
    "    verbatim_size = 0\n",
    "    i = 0\n",
    "    while True:\n",
    "        encoded = None\n",
    "        for j in reversed(range(1, 1 + min(encoding_dict_key_length, len(s) - i))):\n",
    "            try:\n",
    "                encoded = encoding_dict[s[i:i+j]]\n",
    "            except KeyError:\n",
    "                continue\n",
    "\n",
    "            if verbatim_length > 0:\n",
    "                encoded_length = 1 + encoded_number_size(verbatim_length - 1) + verbatim_size\n",
    "                if printing:\n",
    "                    print(f\"{verbatim_length} verbatim characters: {encoded_length}b, {encoded_length/verbatim_length:.2f}b/char\")\n",
    "                ret += encoded_length\n",
    "                verbatim_length = 0\n",
    "                verbatim_size = 0\n",
    "\n",
    "            encoded_length = 1 + len(encoded)\n",
    "            if printing:\n",
    "                print(f\"{s[i:i+j]} in dict: {encoded_length}b, {encoded_length/j:.2f}b/char\")\n",
    "            ret += encoded_length\n",
    "            i += j\n",
    "            break\n",
    "            \n",
    "        if encoded is None:\n",
    "            i += 1\n",
    "            verbatim_length += 1\n",
    "            verbatim_size += 8\n",
    "    \n",
    "        if i >= len(s):\n",
    "            break\n",
    "            \n",
    "    if verbatim_length > 0:\n",
    "        encoded_length = 1 + encoded_number_size(verbatim_length - 1) + verbatim_size\n",
    "        if printing:\n",
    "            print(f\"(flush) {verbatim_length} verbatim characters: {encoded_length}b, {encoded_length/verbatim_length:.2f}b/char\")\n",
    "        ret += 1 + encoded_number_size(verbatim_length) + verbatim_size\n",
    "        verbatim_length = 0\n",
    "        verbatim_size = 0\n",
    "    \n",
    "    if printing:\n",
    "        print(f\"{ret / len(s):.2f} bits/char\")\n",
    "    \n",
    "    return ret\n",
    "evaluate_predictor(huffman_dict_verb_lengths)\n",
    "#Evaluating huffman_dict_verb_lengths\n",
    "#    geometric mean 6.99 bits/char\n",
    "#    geometric mean (unique) 6.57 bits/char"
   ]
  },
  {
   "cell_type": "code",
   "execution_count": null,
   "id": "9c20809e",
   "metadata": {
    "scrolled": true
   },
   "outputs": [],
   "source": [
    "def huffman_dict(s, printing=False):\n",
    "    ret = encoded_number_size(len(s))\n",
    "\n",
    "    i = 0\n",
    "    while True:\n",
    "        encoded = None\n",
    "        for j in reversed(range(1, 1 + min(encoding_dict_key_length, len(s) - i))):\n",
    "            try:\n",
    "                encoded = encoding_dict[s[i:i+j]]\n",
    "            except KeyError:\n",
    "                continue\n",
    "\n",
    "            encoded_length = 1 + len(encoded)\n",
    "            if printing:\n",
    "                print(f\"{s[i:i+j]} in dict: {encoded_length}b, {encoded_length/j:.2f}b/char\")\n",
    "            ret += encoded_length\n",
    "            i += j\n",
    "            break\n",
    "            \n",
    "        if encoded is None:\n",
    "            encoded_length = 1 + 8\n",
    "            if printing:\n",
    "                print(f\"{b(s[i])} verbatim: {encoded_length}b\")\n",
    "            ret += encoded_length\n",
    "            i += 1\n",
    "    \n",
    "        if i >= len(s):\n",
    "            break\n",
    "    \n",
    "    if printing:\n",
    "        print(f\"{ret / len(s):.2f} bits/char\")\n",
    "    \n",
    "    return ret\n",
    "evaluate_predictor(huffman_dict)\n",
    "#Evaluating huffman_dict\n",
    "#    geometric mean 6.95 bits/char\n",
    "#    geometric mean (unique) 6.52 bits/char"
   ]
  },
  {
   "cell_type": "code",
   "execution_count": null,
   "id": "3a050335",
   "metadata": {},
   "outputs": [],
   "source": [
    "def huffman_dict_diff_verb(s, printing=False):\n",
    "    ret = encoded_number_size(len(s))\n",
    "\n",
    "    i = 0\n",
    "    previous = ord('e')\n",
    "    while True:\n",
    "        encoded = None\n",
    "        for j in reversed(range(1, 1 + min(encoding_dict_key_length, len(s) - i))):\n",
    "            try:\n",
    "                encoded = encoding_dict[s[i:i+j]]\n",
    "            except KeyError:\n",
    "                continue\n",
    "\n",
    "            encoded_length = 1 + len(encoded)\n",
    "            if printing:\n",
    "                print(f\"{s[i:i+j]} in dict: {encoded_length}b, {encoded_length/j:.2f}b/char\")\n",
    "            ret += encoded_length\n",
    "            previous = s[i + j - 1]\n",
    "            i += j\n",
    "            break\n",
    "            \n",
    "        if encoded is None:\n",
    "            encoded_length = 1\n",
    "            error = s[i] - previous\n",
    "            if error == 0:\n",
    "                encoded_length += 1\n",
    "            else:\n",
    "                abs_error = abs(error) - 1\n",
    "                fixed_bits = 4\n",
    "                encoded_length += encoded_number_size(abs_error >> fixed_bits) + fixed_bits\n",
    "            if printing:\n",
    "                print(f\"{b(s[i])} not in dict: {encoded_length}b\")\n",
    "            ret += encoded_length\n",
    "            previous = s[i]\n",
    "            i += 1\n",
    "    \n",
    "        if i >= len(s):\n",
    "            break\n",
    "    \n",
    "    if printing:\n",
    "        print(f\"{ret / len(s):.2f} bits/char\")\n",
    "    \n",
    "    return ret\n",
    "evaluate_predictor(huffman_dict_diff_verb)\n",
    "#Evaluating huffman_dict_diff_verb\n",
    "#    geometric mean 6.90 bits/char\n",
    "#    geometric mean (unique) 6.40 bits/char"
   ]
  },
  {
   "cell_type": "code",
   "execution_count": null,
   "id": "c5473c63",
   "metadata": {},
   "outputs": [],
   "source": [
    "def huffman_dict_grouped_hits(s, printing=False):\n",
    "    global encoding_dict, encoding_dict_key_length\n",
    "    \n",
    "    def match_at(i):\n",
    "        \"\"\"Return number of characters of the string at position i that match the dictionary and the encoded length\"\"\"\n",
    "        for j in reversed(range(1, 1 + min(encoding_dict_key_length, len(s) - i))):\n",
    "            try:\n",
    "                encoded = encoding_dict[s[i:i+j]]\n",
    "            except KeyError:\n",
    "                continue\n",
    "            else:\n",
    "                return j, len(encoded)\n",
    "        return (0, None)\n",
    "    \n",
    "    def count_matches(i):\n",
    "        \"\"\"Return number of successive dictionary matches/mismatches starting at i and whether we finished at the end of the string\"\"\"\n",
    "        count = 0\n",
    "        while i < len(s):\n",
    "            match_length, _ = match_at(i)\n",
    "            if match_length:\n",
    "                count += 1\n",
    "                i += match_length\n",
    "            else:\n",
    "                return count, False\n",
    "        return count, True\n",
    "    \n",
    "    def count_mismatches(i):\n",
    "        \"\"\"Return number of successive dictionary matches/mismatches starting at i and whether we finished at the end of the string\"\"\"\n",
    "        count = 0\n",
    "        while i < len(s):\n",
    "            match_length, _ = match_at(i)\n",
    "            if not match_length:\n",
    "                count += 1\n",
    "                i += 1\n",
    "            else:\n",
    "                return count, False\n",
    "        return count, True\n",
    "    \n",
    "    def encoded_matches(i):\n",
    "        length = 0\n",
    "        encoded_size = 0\n",
    "        while i < len(s):\n",
    "            match_length, match_encoded_size = match_at(i)\n",
    "            if match_length:\n",
    "                if printing:\n",
    "                    print(f\"  {s[i:i+match_length]}: {match_encoded_size}b, {match_encoded_size/match_length:.2f}b/char\")\n",
    "                i += match_length\n",
    "                length += match_length\n",
    "                encoded_size += match_encoded_size\n",
    "            else:\n",
    "                break\n",
    "        return length, encoded_size\n",
    "    \n",
    "    def encoded_mismatches(i, prev):\n",
    "        length = 0\n",
    "        encoded_size = 0\n",
    "        while i < len(s):\n",
    "            match_length, _ = match_at(i)\n",
    "            if not match_length:\n",
    "                error = s[i] - prev\n",
    "                prev = s[i]\n",
    "                if error == 0:\n",
    "                    e = 1\n",
    "                else:\n",
    "                    abs_error = abs(error) - 1\n",
    "                    fixed_bits = 3\n",
    "                    e = encoded_number_size(abs_error >> fixed_bits) + fixed_bits\n",
    "                \n",
    "                if printing:\n",
    "                    print(f\"  {bytes([s[i]])}: {e}b\")\n",
    "                i += 1\n",
    "                length += 1\n",
    "                encoded_size += e\n",
    "            else:\n",
    "                break\n",
    "        return length, encoded_size\n",
    "    \n",
    "    ret = 0\n",
    "    i = 0\n",
    "    \n",
    "    # Handle a first block separately, we allow zero number of matches in it\n",
    "    block_length, end = count_matches(i)\n",
    "    if printing:\n",
    "        print(f\"First match block: {block_length}\")\n",
    "    ret += encoded_number_size(block_length)\n",
    "        # Might be zero, if:\n",
    "        # a) Starting with a non-match character\n",
    "        # b) Processing an empty string\n",
    "    length, encoded_size = encoded_matches(i)\n",
    "    i += length\n",
    "    ret += encoded_size\n",
    "    \n",
    "    if i > 0:\n",
    "        prev = s[i - 1]\n",
    "    else:\n",
    "        prev = ord(\"e\")\n",
    "    \n",
    "    while True:\n",
    "        block_length, end = count_mismatches(i)\n",
    "        if printing:\n",
    "            print(f\"Mismatch block: {block_length}\")\n",
    "        assert block_length > 0 or end\n",
    "        ret += encoded_number_size(block_length)\n",
    "        if not block_length:\n",
    "            break\n",
    "        length, encoded_size = encoded_mismatches(i, prev)\n",
    "        i += length\n",
    "        ret += encoded_size\n",
    "        \n",
    "        block_length, end = count_matches(i)\n",
    "        if printing:\n",
    "            print(f\"Match block: {block_length}\")\n",
    "        assert block_length > 0 or end\n",
    "        ret += encoded_number_size(block_length)\n",
    "        if not block_length:\n",
    "            break\n",
    "        length, encoded_size = encoded_matches(i)\n",
    "        i += length\n",
    "        ret += encoded_size\n",
    "        prev = s[i - 1]\n",
    "    \n",
    "    if printing:\n",
    "        if len(s) > 0:\n",
    "            print(f\"{ret}b, {ret / len(s):.2f} bits/char\")\n",
    "        else:\n",
    "            print(f\"{ret}b\")\n",
    "            \n",
    "    \n",
    "    return ret\n",
    "evaluate_predictor(huffman_dict_grouped_hits)"
   ]
  },
  {
   "cell_type": "code",
   "execution_count": null,
   "id": "6bdfa378",
   "metadata": {
    "scrolled": false
   },
   "outputs": [],
   "source": [
    "sum_log_bits_per_char = 0\n",
    "count = 0\n",
    "for s in manual_test_data:\n",
    "    print(s)\n",
    "    bits = huffman_dict_grouped_hits(s, printing=True)\n",
    "    if bits > 0 and len(s) > 0:\n",
    "        sum_log_bits_per_char += math.log(bits / len(s))\n",
    "        count += 1\n",
    "    print()\n",
    "    \n",
    "print(f\"Geometric mean {math.exp(sum_log_bits_per_char / count):.2f}b/char\")"
   ]
  },
  {
   "cell_type": "code",
   "execution_count": null,
   "id": "06a51f2c",
   "metadata": {},
   "outputs": [],
   "source": [
    "smaz_dict = [\"\\002s,\\266\", \"\\003had\\232\\002leW\", \"\\003on \\216\", \"\", \"\\001yS\",\n",
    "\"\\002ma\\255\\002li\\227\", \"\\003or \\260\", \"\", \"\\002ll\\230\\003s t\\277\",\n",
    "\"\\004fromg\\002mel\", \"\", \"\\003its\\332\", \"\\001z\\333\", \"\\003ingF\", \"\\001>\\336\",\n",
    "\"\\001 \\000\\003   (\\002nc\\344\", \"\\002nd=\\003 on\\312\",\n",
    "\"\\002ne\\213\\003hat\\276\\003re q\", \"\", \"\\002ngT\\003herz\\004have\\306\\003s o\\225\",\n",
    "\"\", \"\\003ionk\\003s a\\254\\002ly\\352\", \"\\003hisL\\003 inN\\003 be\\252\", \"\",\n",
    "\"\\003 fo\\325\\003 of \\003 ha\\311\", \"\", \"\\002of\\005\",\n",
    "\"\\003 co\\241\\002no\\267\\003 ma\\370\", \"\", \"\", \"\\003 cl\\356\\003enta\\003 an7\",\n",
    "\"\\002ns\\300\\001\\\"e\", \"\\003n t\\217\\002ntP\\003s, \\205\",\n",
    "\"\\002pe\\320\\003 we\\351\\002om\\223\", \"\\002on\\037\", \"\", \"\\002y G\", \"\\003 wa\\271\",\n",
    "\"\\003 re\\321\\002or*\", \"\", \"\\002=\\\"\\251\\002ot\\337\", \"\\003forD\\002ou[\",\n",
    "\"\\003 toR\", \"\\003 th\\r\", \"\\003 it\\366\",\n",
    "\"\\003but\\261\\002ra\\202\\003 wi\\363\\002</\\361\", \"\\003 wh\\237\", \"\\002  4\",\n",
    "\"\\003nd ?\", \"\\002re!\", \"\", \"\\003ng c\", \"\",\n",
    "\"\\003ly \\307\\003ass\\323\\001a\\004\\002rir\", \"\", \"\", \"\", \"\\002se_\", \"\\003of \\\"\",\n",
    "\"\\003div\\364\\002ros\\003ere\\240\", \"\", \"\\002ta\\310\\001bZ\\002si\\324\", \"\",\n",
    "\"\\003and\\a\\002rs\\335\", \"\\002rt\\362\", \"\\002teE\", \"\\003ati\\316\", \"\\002so\\263\",\n",
    "\"\\002th\\021\", \"\\002tiJ\\001c\\034\\003allp\", \"\\003ate\\345\", \"\\002ss\\246\",\n",
    "\"\\002stM\", \"\", \"\\002><\\346\", \"\\002to\\024\", \"\\003arew\", \"\\001d\\030\",\n",
    "\"\\002tr\\303\", \"\", \"\\001\\n1\\003 a \\222\", \"\\003f tv\\002veo\", \"\\002un\\340\", \"\",\n",
    "\"\\003e o\\242\", \"\\002a \\243\\002wa\\326\\001e\\002\", \"\\002ur\\226\\003e a\\274\",\n",
    "\"\\002us\\244\\003\\n\\r\\n\\247\", \"\\002ut\\304\\003e c\\373\", \"\\002we\\221\", \"\", \"\",\n",
    "\"\\002wh\\302\", \"\\001f,\", \"\", \"\", \"\", \"\\003d t\\206\", \"\", \"\", \"\\003th \\343\",\n",
    "\"\\001g;\", \"\", \"\", \"\\001\\r9\\003e s\\265\", \"\\003e t\\234\", \"\", \"\\003to Y\",\n",
    "\"\\003e\\r\\n\\236\", \"\\002d \\036\\001h\\022\", \"\", \"\\001,Q\", \"\\002 a\\031\", \"\\002 b^\",\n",
    "\"\\002\\r\\n\\025\\002 cI\", \"\\002 d\\245\", \"\\002 e\\253\", \"\\002 fh\\001i\\b\\002e \\v\",\n",
    "\"\", \"\\002 hU\\001-\\314\", \"\\002 i8\", \"\", \"\", \"\\002 l\\315\", \"\\002 m{\",\n",
    "\"\\002f :\\002 n\\354\", \"\\002 o\\035\", \"\\002 p}\\001.n\\003\\r\\n\\r\\250\", \"\",\n",
    "\"\\002 r\\275\", \"\\002 s>\", \"\\002 t\\016\", \"\", \"\\002g \\235\\005which+\\003whi\\367\",\n",
    "\"\\002 w5\", \"\\001/\\305\", \"\\003as \\214\", \"\\003at \\207\", \"\", \"\\003who\\331\", \"\",\n",
    "\"\\001l\\026\\002h \\212\", \"\", \"\\002, $\", \"\", \"\\004withV\", \"\", \"\", \"\", \"\\001m-\", \"\",\n",
    "\"\", \"\\002ac\\357\", \"\\002ad\\350\", \"\\003TheH\", \"\", \"\", \"\\004this\\233\\001n\\t\",\n",
    "\"\", \"\\002. y\", \"\", \"\\002alX\\003e, \\365\", \"\\003tio\\215\\002be\\\\\",\n",
    "\"\\002an\\032\\003ver\\347\", \"\", \"\\004that0\\003tha\\313\\001o\\006\", \"\\003was2\",\n",
    "\"\\002arO\", \"\\002as.\", \"\\002at'\\003the\\001\\004they\\200\\005there\\322\\005theird\",\n",
    "\"\\002ce\\210\", \"\\004were]\", \"\", \"\\002ch\\231\\002l \\264\\001p<\", \"\", \"\",\n",
    "\"\\003one\\256\", \"\", \"\\003he \\023\\002dej\", \"\\003ter\\270\", \"\\002cou\", \"\",\n",
    "\"\\002by\\177\\002di\\201\\002eax\", \"\", \"\\002ec\\327\", \"\\002edB\", \"\\002ee\\353\", \"\",\n",
    "\"\", \"\\001r\\f\\002n )\", \"\", \"\", \"\", \"\\002el\\262\", \"\", \"\\003in i\\002en3\", \"\",\n",
    "\"\\002o `\\001s\\n\", \"\", \"\\002er\\033\", \"\\003is t\\002es6\", \"\", \"\\002ge\\371\",\n",
    "\"\\004.com\\375\", \"\\002fo\\334\\003our\\330\", \"\\003ch \\301\\001t\\003\", \"\\002hab\", \"\",\n",
    "\"\\003men\\374\", \"\", \"\\002he\\020\", \"\", \"\", \"\\001u&\", \"\\002hif\", \"\",\n",
    "\"\\003not\\204\\002ic\\203\", \"\\003ed @\\002id\\355\", \"\", \"\", \"\\002ho\\273\",\n",
    "\"\\002r K\\001vm\", \"\", \"\", \"\", \"\\003t t\\257\\002il\\360\", \"\\002im\\342\",\n",
    "\"\\003en \\317\\002in\\017\", \"\\002io\\220\", \"\\002s \\027\\001wA\", \"\", \"\\003er |\",\n",
    "\"\\003es ~\\002is%\", \"\\002it/\", \"\", \"\\002iv\\272\", \"\",\n",
    "\"\\002t #\\ahttp://C\\001x\\372\", \"\\002la\\211\", \"\\001<\\341\", \"\\003, a\\224\"]"
   ]
  },
  {
   "cell_type": "code",
   "execution_count": null,
   "id": "940719c2",
   "metadata": {},
   "outputs": [],
   "source": [
    "sum(len(x) + 1 for x in smaz_dict)"
   ]
  },
  {
   "cell_type": "code",
   "execution_count": null,
   "id": "b9226c68",
   "metadata": {},
   "outputs": [],
   "source": [
    "241 * 3 + 141*2"
   ]
  },
  {
   "cell_type": "code",
   "execution_count": null,
   "id": "4c4b96fc",
   "metadata": {},
   "outputs": [],
   "source": []
  }
 ],
 "metadata": {
  "kernelspec": {
   "display_name": "Python 3 (ipykernel)",
   "language": "python",
   "name": "python3"
  },
  "language_info": {
   "codemirror_mode": {
    "name": "ipython",
    "version": 3
   },
   "file_extension": ".py",
   "mimetype": "text/x-python",
   "name": "python",
   "nbconvert_exporter": "python",
   "pygments_lexer": "ipython3",
   "version": "3.9.10"
  }
 },
 "nbformat": 4,
 "nbformat_minor": 5
}
