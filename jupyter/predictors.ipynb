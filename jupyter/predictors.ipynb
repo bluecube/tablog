{
 "cells": [
  {
   "cell_type": "code",
   "execution_count": 1,
   "id": "portable-atlas",
   "metadata": {},
   "outputs": [
    {
     "name": "stdout",
     "output_type": "stream",
     "text": [
      "IPython console for SymPy 1.7.1 (Python 3.8.8-64-bit) (ground types: python)\n",
      "\n",
      "These commands were executed:\n",
      ">>> from __future__ import division\n",
      ">>> from sympy import *\n",
      ">>> x, y, z, t = symbols('x y z t')\n",
      ">>> k, m, n = symbols('k m n', integer=True)\n",
      ">>> f, g, h = symbols('f g h', cls=Function)\n",
      ">>> init_printing()\n",
      "\n",
      "Documentation can be found at https://docs.sympy.org/1.7.1/\n",
      "\n"
     ]
    }
   ],
   "source": [
    "%matplotlib inline\n",
    "from sympy import *\n",
    "init_session()"
   ]
  },
  {
   "cell_type": "markdown",
   "id": "naval-handy",
   "metadata": {},
   "source": [
    "# Quadratic finite impulse response predictor"
   ]
  },
  {
   "cell_type": "code",
   "execution_count": 2,
   "id": "statistical-movement",
   "metadata": {},
   "outputs": [
    {
     "data": {
      "image/png": "[encoded data removed]",
      "text/latex": [
       "$\\displaystyle \\left( a, \\  b, \\  c, \\  x\\right)$"
      ],
      "text/plain": [
       "(a, b, c, x)"
      ]
     },
     "execution_count": 2,
     "metadata": {},
     "output_type": "execute_result"
    }
   ],
   "source": [
    "var(\"a, b, c, x\", real=True)"
   ]
  },
  {
   "cell_type": "markdown",
   "id": "incorporate-perry",
   "metadata": {},
   "source": [
    "Samples -- from $s(0)$ to $s(n - 1)$ these are stored in the history buffer, $s(n)$ is the new predicted sample"
   ]
  },
  {
   "cell_type": "code",
   "execution_count": 3,
   "id": "broadband-agenda",
   "metadata": {},
   "outputs": [
    {
     "data": {
      "image/png": "[encoded data removed]",
      "text/latex": [
       "$\\displaystyle s{\\left(x \\right)}$"
      ],
      "text/plain": [
       "s(x)"
      ]
     },
     "execution_count": 3,
     "metadata": {},
     "output_type": "execute_result"
    }
   ],
   "source": [
    "s = Function(\"s\", real=True)(x)\n",
    "s"
   ]
  },
  {
   "cell_type": "markdown",
   "id": "another-suggestion",
   "metadata": {},
   "source": [
    "Function that we use for predicting"
   ]
  },
  {
   "cell_type": "code",
   "execution_count": 4,
   "id": "falling-patio",
   "metadata": {},
   "outputs": [
    {
     "data": {
      "image/png": "[encoded data removed]",
      "text/latex": [
       "$\\displaystyle s{\\left(x \\right)} = a x^{2} + b x + c$"
      ],
      "text/plain": [
       "          2          \n",
       "s(x) = a⋅x  + b⋅x + c"
      ]
     },
     "execution_count": 4,
     "metadata": {},
     "output_type": "execute_result"
    }
   ],
   "source": [
    "eq = Equality(s, a * x**2 + b * x + c)\n",
    "eq"
   ]
  },
  {
   "cell_type": "markdown",
   "id": "binary-probe",
   "metadata": {},
   "source": [
    "## Skipping samples\n",
    "\n",
    "Number of samples in the history buffer:"
   ]
  },
  {
   "cell_type": "code",
   "execution_count": 5,
   "id": "wrong-briefs",
   "metadata": {},
   "outputs": [],
   "source": [
    "n = 5"
   ]
  },
  {
   "cell_type": "code",
   "execution_count": 6,
   "id": "surprised-alexandria",
   "metadata": {},
   "outputs": [
    {
     "data": {
      "image/png": "[encoded data removed]",
      "text/latex": [
       "$\\displaystyle \\left[ s{\\left(0 \\right)} = c, \\  s{\\left(2 \\right)} = 4 a + 2 b + c, \\  s{\\left(4 \\right)} = 16 a + 4 b + c\\right]$"
      ],
      "text/plain": [
       "[s(0) = c, s(2) = 4⋅a + 2⋅b + c, s(4) = 16⋅a + 4⋅b + c]"
      ]
     },
     "execution_count": 6,
     "metadata": {},
     "output_type": "execute_result"
    }
   ],
   "source": [
    "sample_eqs = [eq.subs(x, i * (n-1) // 2) for i in range(3)]\n",
    "sample_eqs"
   ]
  },
  {
   "cell_type": "code",
   "execution_count": 7,
   "id": "compatible-pantyhose",
   "metadata": {},
   "outputs": [
    {
     "data": {
      "image/png": "[encoded data removed]",
      "text/latex": [
       "$\\displaystyle s{\\left(5 \\right)} = \\frac{3 s{\\left(0 \\right)}}{8} - \\frac{5 s{\\left(2 \\right)}}{4} + \\frac{15 s{\\left(4 \\right)}}{8}$"
      ],
      "text/plain": [
       "       3⋅s(0)   5⋅s(2)   15⋅s(4)\n",
       "s(5) = ────── - ────── + ───────\n",
       "         8        4         8   "
      ]
     },
     "execution_count": 7,
     "metadata": {},
     "output_type": "execute_result"
    }
   ],
   "source": [
    "prediction_skipping = eq.subs(solve(sample_eqs, [a, b, c])).subs(x, n).simplify()\n",
    "prediction_skipping"
   ]
  },
  {
   "cell_type": "markdown",
   "id": "alert-french",
   "metadata": {},
   "source": [
    "## Least squares\n",
    "Number of samples in the history buffer:"
   ]
  },
  {
   "cell_type": "code",
   "execution_count": 8,
   "id": "handy-moore",
   "metadata": {},
   "outputs": [],
   "source": [
    "n = 5"
   ]
  },
  {
   "cell_type": "code",
   "execution_count": 9,
   "id": "cultural-expansion",
   "metadata": {},
   "outputs": [
    {
     "data": {
      "image/png": "[encoded data removed]",
      "text/latex": [
       "$\\displaystyle \\sum_{i=0}^{4} \\left(a i^{2} + b i + c - s{\\left(i \\right)}\\right)^{2}$"
      ],
      "text/plain": [
       "  4                           \n",
       " ____                         \n",
       " ╲                            \n",
       "  ╲                           \n",
       "   ╲                         2\n",
       "   ╱  ⎛   2                 ⎞ \n",
       "  ╱   ⎝a⋅i  + b⋅i + c - s(i)⎠ \n",
       " ╱                            \n",
       " ‾‾‾‾                         \n",
       "i = 0                         "
      ]
     },
     "execution_count": 9,
     "metadata": {},
     "output_type": "execute_result"
    }
   ],
   "source": [
    "i = symbols(\"i\")\n",
    "error_eqs = Sum((eq.rhs - eq.lhs).subs(x, i)**2, (i, 0, n - 1))\n",
    "error_eqs"
   ]
  },
  {
   "cell_type": "code",
   "execution_count": 10,
   "id": "considered-community",
   "metadata": {},
   "outputs": [
    {
     "data": {
      "image/png": "[encoded data removed]",
      "text/latex": [
       "$\\displaystyle \\left\\{ a : \\frac{s{\\left(0 \\right)}}{7} - \\frac{s{\\left(1 \\right)}}{14} - \\frac{s{\\left(2 \\right)}}{7} - \\frac{s{\\left(3 \\right)}}{14} + \\frac{s{\\left(4 \\right)}}{7}, \\  b : - \\frac{27 s{\\left(0 \\right)}}{35} + \\frac{13 s{\\left(1 \\right)}}{70} + \\frac{4 s{\\left(2 \\right)}}{7} + \\frac{27 s{\\left(3 \\right)}}{70} - \\frac{13 s{\\left(4 \\right)}}{35}, \\  c : \\frac{31 s{\\left(0 \\right)}}{35} + \\frac{9 s{\\left(1 \\right)}}{35} - \\frac{3 s{\\left(2 \\right)}}{35} - \\frac{s{\\left(3 \\right)}}{7} + \\frac{3 s{\\left(4 \\right)}}{35}\\right\\}$"
      ],
      "text/plain": [
       "⎧   s(0)   s(1)   s(2)   s(3)   s(4)       27⋅s(0)   13⋅s(1)   4⋅s(2)   27⋅s(3\n",
       "⎨a: ──── - ──── - ──── - ──── + ────, b: - ─────── + ─────── + ────── + ──────\n",
       "⎩    7      14     7      14     7            35        70       7         70 \n",
       "\n",
       ")   13⋅s(4)     31⋅s(0)   9⋅s(1)   3⋅s(2)   s(3)   3⋅s(4)⎫\n",
       "─ - ───────, c: ─────── + ────── - ────── - ──── + ──────⎬\n",
       "       35          35       35       35      7       35  ⎭"
      ]
     },
     "execution_count": 10,
     "metadata": {},
     "output_type": "execute_result"
    }
   ],
   "source": [
    "params = solve([error_eqs.diff(sym).doit().simplify() for sym in (a, b, c)], (a, b, c))\n",
    "params"
   ]
  },
  {
   "cell_type": "code",
   "execution_count": 11,
   "id": "specific-entrepreneur",
   "metadata": {},
   "outputs": [
    {
     "data": {
      "image/png": "[encoded data removed]",
      "text/latex": [
       "$\\displaystyle s{\\left(x \\right)} = \\frac{x^{2} \\left(2 s{\\left(0 \\right)} - s{\\left(1 \\right)} - 2 s{\\left(2 \\right)} - s{\\left(3 \\right)} + 2 s{\\left(4 \\right)}\\right)}{14} + \\frac{x \\left(- 54 s{\\left(0 \\right)} + 13 s{\\left(1 \\right)} + 40 s{\\left(2 \\right)} + 27 s{\\left(3 \\right)} - 26 s{\\left(4 \\right)}\\right)}{70} + \\frac{31 s{\\left(0 \\right)}}{35} + \\frac{9 s{\\left(1 \\right)}}{35} - \\frac{3 s{\\left(2 \\right)}}{35} - \\frac{s{\\left(3 \\right)}}{7} + \\frac{3 s{\\left(4 \\right)}}{35}$"
      ],
      "text/plain": [
       "        2                                                                     \n",
       "       x ⋅(2⋅s(0) - s(1) - 2⋅s(2) - s(3) + 2⋅s(4))   x⋅(-54⋅s(0) + 13⋅s(1) + 4\n",
       "s(x) = ─────────────────────────────────────────── + ─────────────────────────\n",
       "                            14                                                \n",
       "\n",
       "                                                                       \n",
       "0⋅s(2) + 27⋅s(3) - 26⋅s(4))   31⋅s(0)   9⋅s(1)   3⋅s(2)   s(3)   3⋅s(4)\n",
       "─────────────────────────── + ─────── + ────── - ────── - ──── + ──────\n",
       "70                               35       35       35      7       35  "
      ]
     },
     "execution_count": 11,
     "metadata": {},
     "output_type": "execute_result"
    }
   ],
   "source": [
    "prediction_lstsq = eq.subs(params).simplify()\n",
    "prediction_lstsq"
   ]
  },
  {
   "cell_type": "code",
   "execution_count": 13,
   "id": "optical-casino",
   "metadata": {},
   "outputs": [
    {
     "data": {
      "image/png": "[encoded data removed]",
      "text/latex": [
       "$\\displaystyle s{\\left(5 \\right)} = \\frac{3 s{\\left(0 \\right)}}{5} - \\frac{3 s{\\left(1 \\right)}}{5} - \\frac{4 s{\\left(2 \\right)}}{5} + \\frac{9 s{\\left(4 \\right)}}{5}$"
      ],
      "text/plain": [
       "       3⋅s(0)   3⋅s(1)   4⋅s(2)   9⋅s(4)\n",
       "s(5) = ────── - ────── - ────── + ──────\n",
       "         5        5        5        5   "
      ]
     },
     "execution_count": 13,
     "metadata": {},
     "output_type": "execute_result"
    }
   ],
   "source": [
    "prediction_lstsq.subs(x, n)"
   ]
  },
  {
   "cell_type": "code",
   "execution_count": null,
   "id": "emerging-basketball",
   "metadata": {},
   "outputs": [],
   "source": []
  },
  {
   "cell_type": "code",
   "execution_count": null,
   "id": "spread-renewal",
   "metadata": {},
   "outputs": [],
   "source": []
  }
 ],
 "metadata": {
  "kernelspec": {
   "display_name": "Python 3",
   "language": "python",
   "name": "python3"
  },
  "language_info": {
   "codemirror_mode": {
    "name": "ipython",
    "version": 3
   },
   "file_extension": ".py",
   "mimetype": "text/x-python",
   "name": "python",
   "nbconvert_exporter": "python",
   "pygments_lexer": "ipython3",
   "version": "3.8.8"
  }
 },
 "nbformat": 4,
 "nbformat_minor": 5
}
