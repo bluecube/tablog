{
 "cells": [
  {
   "cell_type": "code",
   "execution_count": 1,
   "id": "portable-atlas",
   "metadata": {},
   "outputs": [
    {
     "name": "stdout",
     "output_type": "stream",
     "text": [
      "IPython console for SymPy 1.8 (Python 3.9.7-64-bit) (ground types: python)\n",
      "\n",
      "These commands were executed:\n",
      ">>> from __future__ import division\n",
      ">>> from sympy import *\n",
      ">>> x, y, z, t = symbols('x y z t')\n",
      ">>> k, m, n = symbols('k m n', integer=True)\n",
      ">>> f, g, h = symbols('f g h', cls=Function)\n",
      ">>> init_printing()\n",
      "\n",
      "Documentation can be found at https://docs.sympy.org/1.8/\n",
      "\n"
     ]
    }
   ],
   "source": [
    "%matplotlib inline\n",
    "from sympy import *\n",
    "init_session()"
   ]
  },
  {
   "cell_type": "markdown",
   "id": "naval-handy",
   "metadata": {},
   "source": [
    "# Quadratic finite impulse response predictor"
   ]
  },
  {
   "cell_type": "code",
   "execution_count": 2,
   "id": "statistical-movement",
   "metadata": {},
   "outputs": [
    {
     "data": {
      "image/png": "[encoded data removed]",
      "text/latex": [
       "$\\displaystyle \\left( a, \\  b, \\  c, \\  x\\right)$"
      ],
      "text/plain": [
       "(a, b, c, x)"
      ]
     },
     "execution_count": 2,
     "metadata": {},
     "output_type": "execute_result"
    }
   ],
   "source": [
    "var(\"a, b, c, x\", real=True)"
   ]
  },
  {
   "cell_type": "markdown",
   "id": "incorporate-perry",
   "metadata": {},
   "source": [
    "Samples -- from $s(0)$ to $s(n - 1)$ these are stored in the history buffer, $s(n)$ is the new predicted sample"
   ]
  },
  {
   "cell_type": "code",
   "execution_count": 3,
   "id": "broadband-agenda",
   "metadata": {},
   "outputs": [
    {
     "data": {
      "image/png": "[encoded data removed]",
      "text/latex": [
       "$\\displaystyle s{\\left(x \\right)}$"
      ],
      "text/plain": [
       "s(x)"
      ]
     },
     "execution_count": 3,
     "metadata": {},
     "output_type": "execute_result"
    }
   ],
   "source": [
    "s = Function(\"s\", real=True)(x)\n",
    "s"
   ]
  },
  {
   "cell_type": "markdown",
   "id": "another-suggestion",
   "metadata": {},
   "source": [
    "Function that we use for predicting"
   ]
  },
  {
   "cell_type": "code",
   "execution_count": 4,
   "id": "falling-patio",
   "metadata": {},
   "outputs": [
    {
     "data": {
      "image/png": "[encoded data removed]",
      "text/latex": [
       "$\\displaystyle s{\\left(x \\right)} = a x^{2} + b x + c$"
      ],
      "text/plain": [
       "          2          \n",
       "s(x) = a⋅x  + b⋅x + c"
      ]
     },
     "execution_count": 4,
     "metadata": {},
     "output_type": "execute_result"
    }
   ],
   "source": [
    "eq = Equality(s, a * x**2 + b * x + c)\n",
    "eq"
   ]
  },
  {
   "cell_type": "markdown",
   "id": "alert-french",
   "metadata": {},
   "source": [
    "## Least squares\n",
    "Number of samples in the history buffer:"
   ]
  },
  {
   "cell_type": "code",
   "execution_count": 30,
   "id": "handy-moore",
   "metadata": {},
   "outputs": [],
   "source": [
    "n = 4"
   ]
  },
  {
   "cell_type": "code",
   "execution_count": 31,
   "id": "cultural-expansion",
   "metadata": {},
   "outputs": [
    {
     "data": {
      "image/png": "[encoded data removed]",
      "text/latex": [
       "$\\displaystyle \\sum_{i=0}^{3} \\left(a i^{2} + b i + c - s{\\left(i \\right)}\\right)^{2}$"
      ],
      "text/plain": [
       "  3                           \n",
       " ____                         \n",
       " ╲                            \n",
       "  ╲                           \n",
       "   ╲                         2\n",
       "   ╱  ⎛   2                 ⎞ \n",
       "  ╱   ⎝a⋅i  + b⋅i + c - s(i)⎠ \n",
       " ╱                            \n",
       " ‾‾‾‾                         \n",
       "i = 0                         "
      ]
     },
     "execution_count": 31,
     "metadata": {},
     "output_type": "execute_result"
    }
   ],
   "source": [
    "i = symbols(\"i\")\n",
    "error_eqs = Sum((eq.rhs - eq.lhs).subs(x, i)**2, (i, 0, n - 1))\n",
    "error_eqs"
   ]
  },
  {
   "cell_type": "code",
   "execution_count": 32,
   "id": "considered-community",
   "metadata": {},
   "outputs": [
    {
     "data": {
      "image/png": "[encoded data removed]",
      "text/latex": [
       "$\\displaystyle \\left\\{ a : \\frac{s{\\left(0 \\right)}}{4} - \\frac{s{\\left(1 \\right)}}{4} - \\frac{s{\\left(2 \\right)}}{4} + \\frac{s{\\left(3 \\right)}}{4}, \\  b : - \\frac{21 s{\\left(0 \\right)}}{20} + \\frac{13 s{\\left(1 \\right)}}{20} + \\frac{17 s{\\left(2 \\right)}}{20} - \\frac{9 s{\\left(3 \\right)}}{20}, \\  c : \\frac{19 s{\\left(0 \\right)}}{20} + \\frac{3 s{\\left(1 \\right)}}{20} - \\frac{3 s{\\left(2 \\right)}}{20} + \\frac{s{\\left(3 \\right)}}{20}\\right\\}$"
      ],
      "text/plain": [
       "⎧   s(0)   s(1)   s(2)   s(3)       21⋅s(0)   13⋅s(1)   17⋅s(2)   9⋅s(3)     1\n",
       "⎨a: ──── - ──── - ──── + ────, b: - ─────── + ─────── + ─────── - ──────, c: ─\n",
       "⎩    4      4      4      4            20        20        20       20        \n",
       "\n",
       "9⋅s(0)   3⋅s(1)   3⋅s(2)   s(3)⎫\n",
       "────── + ────── - ────── + ────⎬\n",
       "  20       20       20      20 ⎭"
      ]
     },
     "execution_count": 32,
     "metadata": {},
     "output_type": "execute_result"
    }
   ],
   "source": [
    "params = solve([error_eqs.diff(sym).doit().simplify() for sym in (a, b, c)], (a, b, c))\n",
    "params"
   ]
  },
  {
   "cell_type": "code",
   "execution_count": 33,
   "id": "specific-entrepreneur",
   "metadata": {},
   "outputs": [
    {
     "data": {
      "image/png": "[encoded data removed]",
      "text/latex": [
       "$\\displaystyle s{\\left(x \\right)} = \\frac{x^{2} \\left(s{\\left(0 \\right)} - s{\\left(1 \\right)} - s{\\left(2 \\right)} + s{\\left(3 \\right)}\\right)}{4} - \\frac{x \\left(21 s{\\left(0 \\right)} - 13 s{\\left(1 \\right)} - 17 s{\\left(2 \\right)} + 9 s{\\left(3 \\right)}\\right)}{20} + \\frac{19 s{\\left(0 \\right)}}{20} + \\frac{3 s{\\left(1 \\right)}}{20} - \\frac{3 s{\\left(2 \\right)}}{20} + \\frac{s{\\left(3 \\right)}}{20}$"
      ],
      "text/plain": [
       "        2                                                                     \n",
       "       x ⋅(s(0) - s(1) - s(2) + s(3))   x⋅(21⋅s(0) - 13⋅s(1) - 17⋅s(2) + 9⋅s(3\n",
       "s(x) = ────────────────────────────── - ──────────────────────────────────────\n",
       "                     4                                     20                 \n",
       "\n",
       "                                     \n",
       "))   19⋅s(0)   3⋅s(1)   3⋅s(2)   s(3)\n",
       "── + ─────── + ────── - ────── + ────\n",
       "        20       20       20      20 "
      ]
     },
     "execution_count": 33,
     "metadata": {},
     "output_type": "execute_result"
    }
   ],
   "source": [
    "prediction_lstsq = eq.subs(params).simplify()\n",
    "prediction_lstsq"
   ]
  },
  {
   "cell_type": "code",
   "execution_count": 34,
   "id": "optical-casino",
   "metadata": {},
   "outputs": [
    {
     "data": {
      "image/png": "[encoded data removed]",
      "text/latex": [
       "$\\displaystyle s{\\left(4 \\right)} = \\frac{3 s{\\left(0 \\right)}}{4} - \\frac{5 s{\\left(1 \\right)}}{4} - \\frac{3 s{\\left(2 \\right)}}{4} + \\frac{9 s{\\left(3 \\right)}}{4}$"
      ],
      "text/plain": [
       "       3⋅s(0)   5⋅s(1)   3⋅s(2)   9⋅s(3)\n",
       "s(4) = ────── - ────── - ────── + ──────\n",
       "         4        4        4        4   "
      ]
     },
     "execution_count": 34,
     "metadata": {},
     "output_type": "execute_result"
    }
   ],
   "source": [
    "prediction_lstsq.subs(x, n)"
   ]
  },
  {
   "cell_type": "code",
   "execution_count": null,
   "id": "emerging-basketball",
   "metadata": {},
   "outputs": [],
   "source": []
  },
  {
   "cell_type": "code",
   "execution_count": null,
   "id": "spread-renewal",
   "metadata": {},
   "outputs": [],
   "source": []
  }
 ],
 "metadata": {
  "kernelspec": {
   "display_name": "Python 3 (ipykernel)",
   "language": "python",
   "name": "python3"
  },
  "language_info": {
   "codemirror_mode": {
    "name": "ipython",
    "version": 3
   },
   "file_extension": ".py",
   "mimetype": "text/x-python",
   "name": "python",
   "nbconvert_exporter": "python",
   "pygments_lexer": "ipython3",
   "version": "3.9.7"
  }
 },
 "nbformat": 4,
 "nbformat_minor": 5
}
